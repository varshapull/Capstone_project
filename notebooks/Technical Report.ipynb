{
 "cells": [
  {
   "cell_type": "markdown",
   "metadata": {},
   "source": [
    "# Job Recommendation for Stack Overflow users\n",
    "\n",
    "## Goal \n",
    "Stack Overflow users can be ranked based on the number of questions they answer and the cumulative scores for all their answers. The goal is to recommend jobs for a specific user by building a profile strength for that user. The profile strength for a user can be determined using characteristics of users such as their skills, answers they gave and user \"About Me\" information.\n",
    "\n",
    "\n"
   ]
  },
  {
   "cell_type": "markdown",
   "metadata": {},
   "source": [
    "## Data Description\n",
    "\n",
    "There are two main datasets used in this project. \n",
    "#### 1. The Users dataset\n",
    "The Users dataset is a combination of several datasets obtained from the Stack Overflow data dump. This dataset consists of Questions, Answers, associated scores and tags for each answer, user reputation and \"About Me\" information for each user. To understand how many answers were given by each user, I constructed a feature to count the number of answers given per user. All the questions and answers are based on computer science and programming.  \n",
    "\n",
    "The Stack Overflow data dump can be found at:\n",
    "* https://archive.org/details/stackexchange\n",
    "\n",
    "#### 2. The Job descriptions dataset\n",
    "\n",
    "The Job descriptions dataset was scrapped from online job boards. The goal was to retrieve all jobs related to Data science and Software Engineering. The following keywords were used in the search of all related job postings:\n",
    "1. Data scientist\n",
    "2. Data Engineer\n",
    "3. Data Analyst\n",
    "4. Data science\n",
    "5. Machine learning\n",
    "6. Business Analyst\n",
    "7. Software engineer\n",
    "8. Fullstack developer\n",
    "9. Frontend developer\n",
    "10. Backend developer\n",
    "\n",
    "The locations used for the search:\n",
    "1. San Francisco, CA\n",
    "2. Mountain View, CA\n",
    "3. Seattle, WA\n",
    "4. New York, NY\n",
    "5. Los Angeles, CA\n",
    "\n",
    "The goal of scrapping the job boards was to obtain a detailed job description which comprised of all the skills required for that job. I used Scrapy to write a web crawler to recursively parse through all the job posting links for a given search parameter and location. \n",
    "\n",
    "The intial problem I encountered with scrapping the job board was the inconsistency in the structure of the job descriptions. Some job posting links were hosted by the job board whereas some links redirected to an external website. To overcome this problem, I parsed through each of the links to obtain the entire html code for that particular job description. This enabled me to grab all the required information related to job description even if it was redirected to an external website. "
   ]
  },
  {
   "cell_type": "markdown",
   "metadata": {},
   "source": [
    "## Data Munging and Cleaning\n",
    "\n",
    "### 1. Users Dataset\n",
    "\n",
    "The Users dataset is an amalgamation of the following datasets: \n",
    " 1. Questions dataset : This dataset consists of all the Questions related to computer science and programming.\n",
    " 2. Answers dataset : This dataset consists of all Answers related to the respecitve questions.\n",
    " 3. Users master dataset : This dataset consists of all users and their profile information.\n",
    " 4. Tags dataset : The tags dataset consists of all tags associated with a particular question. Each question on Stack Overflow is tagged with certain keywords.\n",
    " \n",
    "    ##### For example : \" How can I concatenate two pandas dataframes?\" \n",
    "    ##### The tags associated with this question would be \"pandas\",\"python\" \n",
    "    "
   ]
  },
  {
   "cell_type": "code",
   "execution_count": 2,
   "metadata": {
    "collapsed": true
   },
   "outputs": [],
   "source": [
    "## Loading Libraries\n",
    "import numpy as np\n",
    "import pandas as pd\n",
    "import matplotlib.pyplot as plt\n",
    "import seaborn as sns\n",
    "from bs4 import BeautifulSoup\n",
    "import re\n",
    "%matplotlib inline"
   ]
  },
  {
   "cell_type": "code",
   "execution_count": 3,
   "metadata": {
    "collapsed": false
   },
   "outputs": [],
   "source": [
    "#Load Users data set :\n",
    "users = pd.read_csv('users_profile.csv')"
   ]
  },
  {
   "cell_type": "code",
   "execution_count": 5,
   "metadata": {
    "collapsed": true
   },
   "outputs": [],
   "source": [
    "#Rename columns\n",
    "users.rename(columns = {'Id_y_y': 'Answer_count','Body_y':'Answer_body','Score_y':'Answer_score','CreationDate_y':\n",
    "                       'Answer_CreationDate','OwnerUserId_y':'Answer_OwnerId','Id_y_x':'Answer_id','Body_x':\n",
    "                       'Question_body','Score_x':'Question_score','CreationDate_x':'Question_CreationDate',\n",
    "                       'OwnerUserId_x':'Question_OwnerId','Id_x':'Question_id'},inplace=True)\n"
   ]
  },
  {
   "cell_type": "code",
   "execution_count": 20,
   "metadata": {
    "collapsed": false
   },
   "outputs": [],
   "source": [
    "#Drop unwanted column\n",
    "users.drop(['Unnamed: 0','EmailHash'],axis=1,inplace=True)"
   ]
  },
  {
   "cell_type": "code",
   "execution_count": 21,
   "metadata": {
    "collapsed": false
   },
   "outputs": [
    {
     "data": {
      "text/html": [
       "<div>\n",
       "<table border=\"1\" class=\"dataframe\">\n",
       "  <thead>\n",
       "    <tr style=\"text-align: right;\">\n",
       "      <th></th>\n",
       "      <th>Question_id</th>\n",
       "      <th>Question_OwnerId</th>\n",
       "      <th>Question_CreationDate</th>\n",
       "      <th>ParentId</th>\n",
       "      <th>Question_score</th>\n",
       "      <th>Question_body</th>\n",
       "      <th>Answer_id</th>\n",
       "      <th>Answer_OwnerId</th>\n",
       "      <th>Answer_CreationDate</th>\n",
       "      <th>ClosedDate</th>\n",
       "      <th>...</th>\n",
       "      <th>Location</th>\n",
       "      <th>Views</th>\n",
       "      <th>AboutMe</th>\n",
       "      <th>LastAccessDate</th>\n",
       "      <th>ProfileImageUrl</th>\n",
       "      <th>UpVotes</th>\n",
       "      <th>CreationDate</th>\n",
       "      <th>User_Id</th>\n",
       "      <th>AccountId</th>\n",
       "      <th>Answer_count</th>\n",
       "    </tr>\n",
       "  </thead>\n",
       "  <tbody>\n",
       "    <tr>\n",
       "      <th>0</th>\n",
       "      <td>92</td>\n",
       "      <td>61.0</td>\n",
       "      <td>2008-08-01T14:45:37Z</td>\n",
       "      <td>90</td>\n",
       "      <td>13</td>\n",
       "      <td>&lt;p&gt;&lt;a href=\"http://svnbook.red-bean.com/\"&gt;Vers...</td>\n",
       "      <td>90</td>\n",
       "      <td>58.0</td>\n",
       "      <td>2008-08-01T14:41:24Z</td>\n",
       "      <td>2012-12-26T03:45:49Z</td>\n",
       "      <td>...</td>\n",
       "      <td>Indianapolis, IN</td>\n",
       "      <td>1278.0</td>\n",
       "      <td>&lt;p&gt;Front-End Engineer at Exact Target&lt;/p&gt;\\n\\n&lt;...</td>\n",
       "      <td>2016-08-26T14:17:54.537</td>\n",
       "      <td>NaN</td>\n",
       "      <td>957.0</td>\n",
       "      <td>2008-08-01T13:56:33.807</td>\n",
       "      <td>58.0</td>\n",
       "      <td>47.0</td>\n",
       "      <td>22</td>\n",
       "    </tr>\n",
       "    <tr>\n",
       "      <th>1</th>\n",
       "      <td>2973</td>\n",
       "      <td>92.0</td>\n",
       "      <td>2008-08-06T00:00:22Z</td>\n",
       "      <td>2970</td>\n",
       "      <td>3</td>\n",
       "      <td>&lt;p&gt;With a six word character password, he may ...</td>\n",
       "      <td>2970</td>\n",
       "      <td>58.0</td>\n",
       "      <td>2008-08-05T23:55:25Z</td>\n",
       "      <td>2012-03-06T03:17:01Z</td>\n",
       "      <td>...</td>\n",
       "      <td>Indianapolis, IN</td>\n",
       "      <td>1278.0</td>\n",
       "      <td>&lt;p&gt;Front-End Engineer at Exact Target&lt;/p&gt;\\n\\n&lt;...</td>\n",
       "      <td>2016-08-26T14:17:54.537</td>\n",
       "      <td>NaN</td>\n",
       "      <td>957.0</td>\n",
       "      <td>2008-08-01T13:56:33.807</td>\n",
       "      <td>58.0</td>\n",
       "      <td>47.0</td>\n",
       "      <td>22</td>\n",
       "    </tr>\n",
       "    <tr>\n",
       "      <th>2</th>\n",
       "      <td>2976</td>\n",
       "      <td>204.0</td>\n",
       "      <td>2008-08-06T00:16:07Z</td>\n",
       "      <td>2970</td>\n",
       "      <td>13</td>\n",
       "      <td>&lt;p&gt;Try and gather as much information as you c...</td>\n",
       "      <td>2970</td>\n",
       "      <td>58.0</td>\n",
       "      <td>2008-08-05T23:55:25Z</td>\n",
       "      <td>2012-03-06T03:17:01Z</td>\n",
       "      <td>...</td>\n",
       "      <td>Indianapolis, IN</td>\n",
       "      <td>1278.0</td>\n",
       "      <td>&lt;p&gt;Front-End Engineer at Exact Target&lt;/p&gt;\\n\\n&lt;...</td>\n",
       "      <td>2016-08-26T14:17:54.537</td>\n",
       "      <td>NaN</td>\n",
       "      <td>957.0</td>\n",
       "      <td>2008-08-01T13:56:33.807</td>\n",
       "      <td>58.0</td>\n",
       "      <td>47.0</td>\n",
       "      <td>22</td>\n",
       "    </tr>\n",
       "    <tr>\n",
       "      <th>3</th>\n",
       "      <td>2978</td>\n",
       "      <td>419.0</td>\n",
       "      <td>2008-08-06T00:24:23Z</td>\n",
       "      <td>2970</td>\n",
       "      <td>2</td>\n",
       "      <td>&lt;P&gt;Is the site just plain static HTML? i.e. he...</td>\n",
       "      <td>2970</td>\n",
       "      <td>58.0</td>\n",
       "      <td>2008-08-05T23:55:25Z</td>\n",
       "      <td>2012-03-06T03:17:01Z</td>\n",
       "      <td>...</td>\n",
       "      <td>Indianapolis, IN</td>\n",
       "      <td>1278.0</td>\n",
       "      <td>&lt;p&gt;Front-End Engineer at Exact Target&lt;/p&gt;\\n\\n&lt;...</td>\n",
       "      <td>2016-08-26T14:17:54.537</td>\n",
       "      <td>NaN</td>\n",
       "      <td>957.0</td>\n",
       "      <td>2008-08-01T13:56:33.807</td>\n",
       "      <td>58.0</td>\n",
       "      <td>47.0</td>\n",
       "      <td>22</td>\n",
       "    </tr>\n",
       "    <tr>\n",
       "      <th>4</th>\n",
       "      <td>3055</td>\n",
       "      <td>116.0</td>\n",
       "      <td>2008-08-06T03:31:22Z</td>\n",
       "      <td>2970</td>\n",
       "      <td>5</td>\n",
       "      <td>&lt;p&gt;You mention your Dad was using a website pu...</td>\n",
       "      <td>2970</td>\n",
       "      <td>58.0</td>\n",
       "      <td>2008-08-05T23:55:25Z</td>\n",
       "      <td>2012-03-06T03:17:01Z</td>\n",
       "      <td>...</td>\n",
       "      <td>Indianapolis, IN</td>\n",
       "      <td>1278.0</td>\n",
       "      <td>&lt;p&gt;Front-End Engineer at Exact Target&lt;/p&gt;\\n\\n&lt;...</td>\n",
       "      <td>2016-08-26T14:17:54.537</td>\n",
       "      <td>NaN</td>\n",
       "      <td>957.0</td>\n",
       "      <td>2008-08-01T13:56:33.807</td>\n",
       "      <td>58.0</td>\n",
       "      <td>47.0</td>\n",
       "      <td>22</td>\n",
       "    </tr>\n",
       "  </tbody>\n",
       "</table>\n",
       "<p>5 rows × 30 columns</p>\n",
       "</div>"
      ],
      "text/plain": [
       "   Question_id  Question_OwnerId Question_CreationDate  ParentId  \\\n",
       "0           92              61.0  2008-08-01T14:45:37Z        90   \n",
       "1         2973              92.0  2008-08-06T00:00:22Z      2970   \n",
       "2         2976             204.0  2008-08-06T00:16:07Z      2970   \n",
       "3         2978             419.0  2008-08-06T00:24:23Z      2970   \n",
       "4         3055             116.0  2008-08-06T03:31:22Z      2970   \n",
       "\n",
       "   Question_score                                      Question_body  \\\n",
       "0              13  <p><a href=\"http://svnbook.red-bean.com/\">Vers...   \n",
       "1               3  <p>With a six word character password, he may ...   \n",
       "2              13  <p>Try and gather as much information as you c...   \n",
       "3               2  <P>Is the site just plain static HTML? i.e. he...   \n",
       "4               5  <p>You mention your Dad was using a website pu...   \n",
       "\n",
       "   Answer_id  Answer_OwnerId   Answer_CreationDate            ClosedDate  \\\n",
       "0         90            58.0  2008-08-01T14:41:24Z  2012-12-26T03:45:49Z   \n",
       "1       2970            58.0  2008-08-05T23:55:25Z  2012-03-06T03:17:01Z   \n",
       "2       2970            58.0  2008-08-05T23:55:25Z  2012-03-06T03:17:01Z   \n",
       "3       2970            58.0  2008-08-05T23:55:25Z  2012-03-06T03:17:01Z   \n",
       "4       2970            58.0  2008-08-05T23:55:25Z  2012-03-06T03:17:01Z   \n",
       "\n",
       "       ...               Location   Views  \\\n",
       "0      ...       Indianapolis, IN  1278.0   \n",
       "1      ...       Indianapolis, IN  1278.0   \n",
       "2      ...       Indianapolis, IN  1278.0   \n",
       "3      ...       Indianapolis, IN  1278.0   \n",
       "4      ...       Indianapolis, IN  1278.0   \n",
       "\n",
       "                                             AboutMe           LastAccessDate  \\\n",
       "0  <p>Front-End Engineer at Exact Target</p>\\n\\n<...  2016-08-26T14:17:54.537   \n",
       "1  <p>Front-End Engineer at Exact Target</p>\\n\\n<...  2016-08-26T14:17:54.537   \n",
       "2  <p>Front-End Engineer at Exact Target</p>\\n\\n<...  2016-08-26T14:17:54.537   \n",
       "3  <p>Front-End Engineer at Exact Target</p>\\n\\n<...  2016-08-26T14:17:54.537   \n",
       "4  <p>Front-End Engineer at Exact Target</p>\\n\\n<...  2016-08-26T14:17:54.537   \n",
       "\n",
       "   ProfileImageUrl UpVotes             CreationDate User_Id  AccountId  \\\n",
       "0              NaN   957.0  2008-08-01T13:56:33.807    58.0       47.0   \n",
       "1              NaN   957.0  2008-08-01T13:56:33.807    58.0       47.0   \n",
       "2              NaN   957.0  2008-08-01T13:56:33.807    58.0       47.0   \n",
       "3              NaN   957.0  2008-08-01T13:56:33.807    58.0       47.0   \n",
       "4              NaN   957.0  2008-08-01T13:56:33.807    58.0       47.0   \n",
       "\n",
       "   Answer_count  \n",
       "0            22  \n",
       "1            22  \n",
       "2            22  \n",
       "3            22  \n",
       "4            22  \n",
       "\n",
       "[5 rows x 30 columns]"
      ]
     },
     "execution_count": 21,
     "metadata": {},
     "output_type": "execute_result"
    }
   ],
   "source": [
    "#Snapshot of users data\n",
    "users.head()"
   ]
  },
  {
   "cell_type": "code",
   "execution_count": 23,
   "metadata": {
    "collapsed": false
   },
   "outputs": [
    {
     "data": {
      "text/plain": [
       "(1982623, 30)"
      ]
     },
     "execution_count": 23,
     "metadata": {},
     "output_type": "execute_result"
    }
   ],
   "source": [
    "users.shape"
   ]
  },
  {
   "cell_type": "markdown",
   "metadata": {},
   "source": [
    "There are some users with 'None'as a description about themselves in the \"About Me\" column and some with NaN values. \n",
    "The idea is to select only the users with \"About Me\" information, so that this information can aid in building profile strength of user."
   ]
  },
  {
   "cell_type": "code",
   "execution_count": 6,
   "metadata": {
    "collapsed": true
   },
   "outputs": [],
   "source": [
    "#Filter out users with \"About Me\" description and with Nan values\n",
    "users_aboutme = users[users['AboutMe'] != 'None']\n",
    "users_aboutme = users_aboutme[pd.notnull(users_aboutme['AboutMe'])]"
   ]
  },
  {
   "cell_type": "code",
   "execution_count": null,
   "metadata": {
    "collapsed": false
   },
   "outputs": [],
   "source": [
    "#Descriptive stats on users_aboutme \n",
    "users_aboutme.describe()"
   ]
  },
  {
   "cell_type": "code",
   "execution_count": 8,
   "metadata": {
    "collapsed": false
   },
   "outputs": [
    {
     "data": {
      "text/plain": [
       "<matplotlib.axes._subplots.AxesSubplot at 0x103de29d0>"
      ]
     },
     "execution_count": 8,
     "metadata": {},
     "output_type": "execute_result"
    },
    {
     "data": {
      "image/png": "[encoded data removed]",
      "text/plain": [
       "<matplotlib.figure.Figure at 0x1167c9690>"
      ]
     },
     "metadata": {},
     "output_type": "display_data"
    }
   ],
   "source": [
    "#Looking at distribution of Answer count per user\n",
    "users_aboutme.Answer_count.plot(kind='hist')"
   ]
  },
  {
   "cell_type": "code",
   "execution_count": 14,
   "metadata": {
    "collapsed": false
   },
   "outputs": [],
   "source": [
    "#Pick threshold for Answer count -> 10 answers per user\n",
    "users_profile = users_aboutme[users_aboutme['Answer_count'] > 10]"
   ]
  },
  {
   "cell_type": "code",
   "execution_count": 2,
   "metadata": {
    "collapsed": true
   },
   "outputs": [],
   "source": [
    "#Writing to csv file\n",
    "#users_profile.to_csv('users_profile_final.csv')\n",
    "users_profile = pd.read_csv('users_profile_final.csv')"
   ]
  },
  {
   "cell_type": "markdown",
   "metadata": {},
   "source": [
    "##### Cleaning the Text columns with html tags -> AboutMe, Answers_body and Questions_body\n",
    "Using BeautifulSoup to get only text from these columns"
   ]
  },
  {
   "cell_type": "code",
   "execution_count": 24,
   "metadata": {
    "collapsed": false
   },
   "outputs": [
    {
     "name": "stderr",
     "output_type": "stream",
     "text": [
      "/Users/varshapullabhotla/anaconda/lib/python2.7/site-packages/bs4/__init__.py:207: UserWarning: \"http://www.youtube.com/watch?v=g1Qlzei-ArA\" looks like a URL. Beautiful Soup is not an HTTP client. You should probably use an HTTP client to get the document behind the URL, and feed that document to Beautiful Soup.\n",
      "  '\"%s\" looks like a URL. Beautiful Soup is not an HTTP client. You should probably use an HTTP client to get the document behind the URL, and feed that document to Beautiful Soup.' % markup)\n",
      "/Users/varshapullabhotla/anaconda/lib/python2.7/site-packages/bs4/__init__.py:207: UserWarning: \"http://twitter.com/ArtemR\" looks like a URL. Beautiful Soup is not an HTTP client. You should probably use an HTTP client to get the document behind the URL, and feed that document to Beautiful Soup.\n",
      "  '\"%s\" looks like a URL. Beautiful Soup is not an HTTP client. You should probably use an HTTP client to get the document behind the URL, and feed that document to Beautiful Soup.' % markup)\n",
      "/Users/varshapullabhotla/anaconda/lib/python2.7/site-packages/ipykernel/__main__.py:2: SettingWithCopyWarning: \n",
      "A value is trying to be set on a copy of a slice from a DataFrame.\n",
      "Try using .loc[row_indexer,col_indexer] = value instead\n",
      "\n",
      "See the caveats in the documentation: http://pandas.pydata.org/pandas-docs/stable/indexing.html#indexing-view-versus-copy\n",
      "  from ipykernel import kernelapp as app\n",
      "/Users/varshapullabhotla/anaconda/lib/python2.7/site-packages/ipykernel/__main__.py:3: SettingWithCopyWarning: \n",
      "A value is trying to be set on a copy of a slice from a DataFrame.\n",
      "Try using .loc[row_indexer,col_indexer] = value instead\n",
      "\n",
      "See the caveats in the documentation: http://pandas.pydata.org/pandas-docs/stable/indexing.html#indexing-view-versus-copy\n",
      "  app.launch_new_instance()\n"
     ]
    }
   ],
   "source": [
    "#Cleaning About me \n",
    "#users_profile['AboutMe'] = users_profile.loc[:,'AboutMe'].apply(lambda x: BeautifulSoup(x,\"html.parser\"))\n",
    "users_profile['AboutMe'] = users_profile.loc[:,'AboutMe'].apply(lambda x: x.get_text())"
   ]
  },
  {
   "cell_type": "code",
   "execution_count": 27,
   "metadata": {
    "collapsed": false
   },
   "outputs": [
    {
     "data": {
      "text/plain": [
       "array([ u'Front-End Engineer at Exact Target\\nCo-Author of HTML, XHTML and CSS All-in-one Desk Reference for Dummies\\nGraduated from IU with a Bachelors of Media Arts and Science and a Certificate in Applied Computer Science.\\nTech Editor for Building Facebook Applications for Dummies and Building Websites All-in-one for Dummies 2nd Edition.\\nCreator and maintainer of the Status-bar Calculator Firefox and Chrome extensions\\nThree years professional experience in Java E-Commerce Development and four years professional experience with PHP\\nTeach Server Side Programming with PHP and Mobile Applications Development at IUPUI\\n',\n",
       "       u'a long time ago i found an xss vuln here and took down the entire site\\nuserid 26, respect\\n',\n",
       "       u\"Full-Stack Developer at Stack Overflow, working to make our little corner of the Internet better for all of us.\\nIf it consumes electricity, chances are good that I worked with it or at least know about it. Graduated as SysAdmin, turned Programmer. C# (ASP.net MVC and Web API), JavaScript (node.js and browser based), in the past I also worked with Basic, Java, and PHP. Did some Ruby and Go code as a hobby. 6502 Assembly is art.\\nI'm also on Twitter and I have a blog.\\n\",\n",
       "       ...,\n",
       "       u'http://www.masisclass.com/\\n\"Our civilization runs on software.\" - Bjarne Stroustrup\\n',\n",
       "       u\"I'm a Developer.\\n\",\n",
       "       u'UI Developer with 9 years of experience and knowledge about, CSS, HTML jQuery and learning AngularJS\\n'], dtype=object)"
      ]
     },
     "execution_count": 27,
     "metadata": {},
     "output_type": "execute_result"
    }
   ],
   "source": [
    "users_profile['About_me'].unique()"
   ]
  },
  {
   "cell_type": "code",
   "execution_count": 30,
   "metadata": {
    "collapsed": false
   },
   "outputs": [
    {
     "name": "stderr",
     "output_type": "stream",
     "text": [
      "/Users/varshapullabhotla/anaconda/lib/python2.7/site-packages/ipykernel/__main__.py:1: SettingWithCopyWarning: \n",
      "A value is trying to be set on a copy of a slice from a DataFrame.\n",
      "Try using .loc[row_indexer,col_indexer] = value instead\n",
      "\n",
      "See the caveats in the documentation: http://pandas.pydata.org/pandas-docs/stable/indexing.html#indexing-view-versus-copy\n",
      "  if __name__ == '__main__':\n",
      "/Users/varshapullabhotla/anaconda/lib/python2.7/site-packages/ipykernel/__main__.py:2: SettingWithCopyWarning: \n",
      "A value is trying to be set on a copy of a slice from a DataFrame.\n",
      "Try using .loc[row_indexer,col_indexer] = value instead\n",
      "\n",
      "See the caveats in the documentation: http://pandas.pydata.org/pandas-docs/stable/indexing.html#indexing-view-versus-copy\n",
      "  from ipykernel import kernelapp as app\n"
     ]
    }
   ],
   "source": [
    "users_profile['About_me'] = users_profile.loc[:,'About_me'].apply(lambda x: x.lower())\n",
    "users_profile['About_me']= users_profile.loc[:,'About_me'].apply(lambda x: x.strip(\"\\n\"))"
   ]
  },
  {
   "cell_type": "code",
   "execution_count": 33,
   "metadata": {
    "collapsed": false
   },
   "outputs": [
    {
     "data": {
      "text/plain": [
       "1968292                                     i'm a developer.\n",
       "1968293                                     i'm a developer.\n",
       "1968294                                     i'm a developer.\n",
       "1968295                                     i'm a developer.\n",
       "1968296                                     i'm a developer.\n",
       "1968297                                     i'm a developer.\n",
       "1968298                                     i'm a developer.\n",
       "1968299                                     i'm a developer.\n",
       "1968300                                     i'm a developer.\n",
       "1976454    ui developer with 9 years of experience and kn...\n",
       "1976455    ui developer with 9 years of experience and kn...\n",
       "1976456    ui developer with 9 years of experience and kn...\n",
       "1976457    ui developer with 9 years of experience and kn...\n",
       "1976458    ui developer with 9 years of experience and kn...\n",
       "1976459    ui developer with 9 years of experience and kn...\n",
       "1976460    ui developer with 9 years of experience and kn...\n",
       "1976461    ui developer with 9 years of experience and kn...\n",
       "1976462    ui developer with 9 years of experience and kn...\n",
       "1976463    ui developer with 9 years of experience and kn...\n",
       "1976464    ui developer with 9 years of experience and kn...\n",
       "Name: About_me, dtype: object"
      ]
     },
     "execution_count": 33,
     "metadata": {},
     "output_type": "execute_result"
    }
   ],
   "source": [
    "users_profile['About_me'].tail(20)"
   ]
  },
  {
   "cell_type": "code",
   "execution_count": 35,
   "metadata": {
    "collapsed": false
   },
   "outputs": [],
   "source": [
    "#Cleaning Answers and Question body\n",
    "users_profile['Answer_body'] = users_profile.loc[:,'Answer_body'].apply(lambda x: BeautifulSoup(x,\"html.parser\"))\n",
    "\n",
    "users_profile['Answer_body'] = users_profile.loc[:,'Answer_body'].apply(lambda x: x.get_text())\n",
    "\n",
    "users_profile['Answer_body'] = users_profile.loc[:,'Answer_body'].apply(lambda x: x.lower())\n",
    "users_profile['Answer_body']=  users_profile.loc[:,'Answer_body'].apply(lambda x: x.strip(\"\\n\"))"
   ]
  },
  {
   "cell_type": "code",
   "execution_count": null,
   "metadata": {
    "collapsed": true
   },
   "outputs": [],
   "source": [
    "users_profile['Question_body'] = users_profile.loc[:,'Question_body'].apply(lambda x: BeautifulSoup(x,\"html.parser\"))\n",
    "users_profile['Question_body'] = users_profile.loc[:,'Question_body'].apply(lambda x: x.get_text())\n",
    "\n",
    "users_profile['Question_body'] = users_profile['Question_body'].apply(lambda x: x.lower())\n",
    "users_profile['Question_body']= users_profile['Question_body'].apply(lambda x: x.strip(\"\\n\"))"
   ]
  },
  {
   "cell_type": "code",
   "execution_count": 25,
   "metadata": {
    "collapsed": true
   },
   "outputs": [],
   "source": []
  },
  {
   "cell_type": "markdown",
   "metadata": {},
   "source": [
    "### 2. Job Description Data\n",
    "\n",
    "Job Descriptions dataset contains job descriptions in text, company name, title of the job, location"
   ]
  },
  {
   "cell_type": "code",
   "execution_count": 3,
   "metadata": {
    "collapsed": false
   },
   "outputs": [],
   "source": [
    "job_descriptions = pd.read_csv(\"jobs_final.csv\")"
   ]
  },
  {
   "cell_type": "code",
   "execution_count": 4,
   "metadata": {
    "collapsed": false
   },
   "outputs": [],
   "source": [
    "job_descriptions.drop('Unnamed: 0',axis=1,inplace=True)"
   ]
  },
  {
   "cell_type": "code",
   "execution_count": 46,
   "metadata": {
    "collapsed": false
   },
   "outputs": [
    {
     "data": {
      "text/html": [
       "<div>\n",
       "<table border=\"1\" class=\"dataframe\">\n",
       "  <thead>\n",
       "    <tr style=\"text-align: right;\">\n",
       "      <th></th>\n",
       "      <th>node</th>\n",
       "      <th>J2EE</th>\n",
       "      <th>nosql</th>\n",
       "      <th>JavaScript</th>\n",
       "      <th>Redis</th>\n",
       "      <th>dl</th>\n",
       "      <th>RabbitMQ</th>\n",
       "      <th>kafka</th>\n",
       "      <th>linux</th>\n",
       "      <th>hbase</th>\n",
       "      <th>...</th>\n",
       "      <th>tensorflow</th>\n",
       "      <th>url</th>\n",
       "      <th>ml</th>\n",
       "      <th>seaborn</th>\n",
       "      <th>mapreduce</th>\n",
       "      <th>hive</th>\n",
       "      <th>summary</th>\n",
       "      <th>Csharp</th>\n",
       "      <th>spark</th>\n",
       "      <th>title</th>\n",
       "    </tr>\n",
       "  </thead>\n",
       "  <tbody>\n",
       "    <tr>\n",
       "      <th>0</th>\n",
       "      <td>0</td>\n",
       "      <td>0</td>\n",
       "      <td>0</td>\n",
       "      <td>0</td>\n",
       "      <td>0</td>\n",
       "      <td>0</td>\n",
       "      <td>0</td>\n",
       "      <td>0</td>\n",
       "      <td>0</td>\n",
       "      <td>0</td>\n",
       "      <td>...</td>\n",
       "      <td>0.0</td>\n",
       "      <td>http://www.indeed.com/rc/clk?jk=aebef464939367...</td>\n",
       "      <td>0.0</td>\n",
       "      <td>0.0</td>\n",
       "      <td>0.0</td>\n",
       "      <td>0.0</td>\n",
       "      <td>\\n\\n\\n\\n\\n\\n\\n\\n    &lt;a href=\"http://www.grail...</td>\n",
       "      <td>0.0</td>\n",
       "      <td>0.0</td>\n",
       "      <td>DATA ANALYSIS SCIENTIST</td>\n",
       "    </tr>\n",
       "    <tr>\n",
       "      <th>1</th>\n",
       "      <td>0</td>\n",
       "      <td>0</td>\n",
       "      <td>0</td>\n",
       "      <td>0</td>\n",
       "      <td>0</td>\n",
       "      <td>0</td>\n",
       "      <td>0</td>\n",
       "      <td>0</td>\n",
       "      <td>0</td>\n",
       "      <td>0</td>\n",
       "      <td>...</td>\n",
       "      <td>0.0</td>\n",
       "      <td>http://www.indeed.com/rc/clk?jk=a823e56fe208ab...</td>\n",
       "      <td>0.0</td>\n",
       "      <td>0.0</td>\n",
       "      <td>0.0</td>\n",
       "      <td>0.0</td>\n",
       "      <td>\\r\\n\\r\\n\\r\\n\\r\\n\\r\\n\\r\\n\\r\\n\\r\\n\\r\\n\\r\\n\\r\\n\\r...</td>\n",
       "      <td>0.0</td>\n",
       "      <td>0.0</td>\n",
       "      <td>Data Analyst - Jr</td>\n",
       "    </tr>\n",
       "    <tr>\n",
       "      <th>2</th>\n",
       "      <td>0</td>\n",
       "      <td>0</td>\n",
       "      <td>0</td>\n",
       "      <td>1</td>\n",
       "      <td>0</td>\n",
       "      <td>0</td>\n",
       "      <td>0</td>\n",
       "      <td>0</td>\n",
       "      <td>0</td>\n",
       "      <td>0</td>\n",
       "      <td>...</td>\n",
       "      <td>0.0</td>\n",
       "      <td>http://www.indeed.com/rc/clk?jk=982a10d921a082...</td>\n",
       "      <td>0.0</td>\n",
       "      <td>0.0</td>\n",
       "      <td>0.0</td>\n",
       "      <td>0.0</td>\n",
       "      <td>&lt;!DOCTYPE html&gt;\\r\\n&lt;html lang=\"en\"&gt;\\r\\n\\t&lt;head...</td>\n",
       "      <td>0.0</td>\n",
       "      <td>0.0</td>\n",
       "      <td>Data Scientist/Machine Learning Engineer</td>\n",
       "    </tr>\n",
       "    <tr>\n",
       "      <th>3</th>\n",
       "      <td>0</td>\n",
       "      <td>0</td>\n",
       "      <td>0</td>\n",
       "      <td>0</td>\n",
       "      <td>0</td>\n",
       "      <td>0</td>\n",
       "      <td>0</td>\n",
       "      <td>0</td>\n",
       "      <td>0</td>\n",
       "      <td>0</td>\n",
       "      <td>...</td>\n",
       "      <td>0.0</td>\n",
       "      <td>http://www.indeed.com/rc/clk?jk=dcdbb79f9a3dca...</td>\n",
       "      <td>0.0</td>\n",
       "      <td>0.0</td>\n",
       "      <td>0.0</td>\n",
       "      <td>1.0</td>\n",
       "      <td>&lt;!DOCTYPE html&gt;&lt;html&gt;&lt;head&gt;&lt;!--[if IE]&gt;\\n&lt;meta...</td>\n",
       "      <td>0.0</td>\n",
       "      <td>0.0</td>\n",
       "      <td>Product Analyst</td>\n",
       "    </tr>\n",
       "    <tr>\n",
       "      <th>4</th>\n",
       "      <td>0</td>\n",
       "      <td>0</td>\n",
       "      <td>0</td>\n",
       "      <td>0</td>\n",
       "      <td>0</td>\n",
       "      <td>0</td>\n",
       "      <td>0</td>\n",
       "      <td>0</td>\n",
       "      <td>0</td>\n",
       "      <td>0</td>\n",
       "      <td>...</td>\n",
       "      <td>0.0</td>\n",
       "      <td>http://www.indeed.com/rc/clk?jk=f2d716747daeb7...</td>\n",
       "      <td>0.0</td>\n",
       "      <td>0.0</td>\n",
       "      <td>0.0</td>\n",
       "      <td>0.0</td>\n",
       "      <td>\\n\\n\\n    &lt;!doctype html&gt;\\n    &lt;!--[if lt IE 7...</td>\n",
       "      <td>0.0</td>\n",
       "      <td>0.0</td>\n",
       "      <td>Marketing Analyst</td>\n",
       "    </tr>\n",
       "  </tbody>\n",
       "</table>\n",
       "<p>5 rows × 49 columns</p>\n",
       "</div>"
      ],
      "text/plain": [
       "   node  J2EE  nosql  JavaScript  Redis  dl  RabbitMQ  kafka  linux  hbase  \\\n",
       "0     0     0      0           0      0   0         0      0      0      0   \n",
       "1     0     0      0           0      0   0         0      0      0      0   \n",
       "2     0     0      0           1      0   0         0      0      0      0   \n",
       "3     0     0      0           0      0   0         0      0      0      0   \n",
       "4     0     0      0           0      0   0         0      0      0      0   \n",
       "\n",
       "                     ...                     tensorflow  \\\n",
       "0                    ...                            0.0   \n",
       "1                    ...                            0.0   \n",
       "2                    ...                            0.0   \n",
       "3                    ...                            0.0   \n",
       "4                    ...                            0.0   \n",
       "\n",
       "                                                 url   ml  seaborn  mapreduce  \\\n",
       "0  http://www.indeed.com/rc/clk?jk=aebef464939367...  0.0      0.0        0.0   \n",
       "1  http://www.indeed.com/rc/clk?jk=a823e56fe208ab...  0.0      0.0        0.0   \n",
       "2  http://www.indeed.com/rc/clk?jk=982a10d921a082...  0.0      0.0        0.0   \n",
       "3  http://www.indeed.com/rc/clk?jk=dcdbb79f9a3dca...  0.0      0.0        0.0   \n",
       "4  http://www.indeed.com/rc/clk?jk=f2d716747daeb7...  0.0      0.0        0.0   \n",
       "\n",
       "   hive                                            summary  Csharp  spark  \\\n",
       "0   0.0   \\n\\n\\n\\n\\n\\n\\n\\n    <a href=\"http://www.grail...     0.0    0.0   \n",
       "1   0.0  \\r\\n\\r\\n\\r\\n\\r\\n\\r\\n\\r\\n\\r\\n\\r\\n\\r\\n\\r\\n\\r\\n\\r...     0.0    0.0   \n",
       "2   0.0  <!DOCTYPE html>\\r\\n<html lang=\"en\">\\r\\n\\t<head...     0.0    0.0   \n",
       "3   1.0  <!DOCTYPE html><html><head><!--[if IE]>\\n<meta...     0.0    0.0   \n",
       "4   0.0  \\n\\n\\n    <!doctype html>\\n    <!--[if lt IE 7...     0.0    0.0   \n",
       "\n",
       "                                      title  \n",
       "0                   DATA ANALYSIS SCIENTIST  \n",
       "1                         Data Analyst - Jr  \n",
       "2  Data Scientist/Machine Learning Engineer  \n",
       "3                           Product Analyst  \n",
       "4                         Marketing Analyst  \n",
       "\n",
       "[5 rows x 49 columns]"
      ]
     },
     "execution_count": 46,
     "metadata": {},
     "output_type": "execute_result"
    }
   ],
   "source": [
    "job_descriptions.head()"
   ]
  },
  {
   "cell_type": "code",
   "execution_count": 48,
   "metadata": {
    "collapsed": false
   },
   "outputs": [],
   "source": [
    "#Cleaning Job description text -> summary\n",
    "job_descriptions['summary'] = job_descriptions.loc[:,'summary'].apply(lambda x: BeautifulSoup(x,\"html.parser\"))\n",
    "job_descriptions['job_descriptions'] = job_descriptions.loc[:,'summary'].apply(lambda x: x.get_text())"
   ]
  },
  {
   "cell_type": "code",
   "execution_count": null,
   "metadata": {
    "collapsed": true
   },
   "outputs": [],
   "source": [
    "job_descriptions.summary.apply(lambda x: x.lower())\n",
    "job_descriptions.summary.apply(lambda x: x.strip(\"\\n\"))"
   ]
  },
  {
   "cell_type": "markdown",
   "metadata": {},
   "source": [
    "## Exploratory Data Analysis"
   ]
  },
  {
   "cell_type": "code",
   "execution_count": null,
   "metadata": {
    "collapsed": true
   },
   "outputs": [],
   "source": [
    "#sns.distplot(users_profile.Reputation,kde=False,color='Red',bins=7)\n",
    "fig = plt.figure(figsize=(10,7))\n",
    "users_rep_dist = users_profile.Reputation.plot(kind='bar', color='green', alpha=0.7, \n",
    "                                           title= \"Graph 1- Distribution of Reputation scores of Users\\n\")\n",
    "users_rep_dist.set_xlabel(\"Reputation\\n\")\n",
    "users_rep_dist.set_ylabel(\"Frequency\\n\")\n",
    "#fig.savefig('../user_reputation_distribution.pdf') \n",
    "plt.show()"
   ]
  },
  {
   "cell_type": "code",
   "execution_count": null,
   "metadata": {
    "collapsed": false
   },
   "outputs": [],
   "source": []
  },
  {
   "cell_type": "code",
   "execution_count": null,
   "metadata": {
    "collapsed": true
   },
   "outputs": [],
   "source": [
    "#users_profile.groupby(['Answer_id'])['Answer_score'].sum().plot(kind='hist')"
   ]
  },
  {
   "cell_type": "code",
   "execution_count": null,
   "metadata": {
    "collapsed": true
   },
   "outputs": [],
   "source": []
  },
  {
   "cell_type": "code",
   "execution_count": 10,
   "metadata": {
    "collapsed": false
   },
   "outputs": [
    {
     "name": "stderr",
     "output_type": "stream",
     "text": [
      "/Users/varshapullabhotla/anaconda/lib/python2.7/site-packages/numpy/lib/function_base.py:3834: RuntimeWarning: Invalid value encountered in percentile\n",
      "  RuntimeWarning)\n"
     ]
    },
    {
     "data": {
      "text/html": [
       "<div>\n",
       "<table border=\"1\" class=\"dataframe\">\n",
       "  <thead>\n",
       "    <tr style=\"text-align: right;\">\n",
       "      <th></th>\n",
       "      <th>node</th>\n",
       "      <th>J2EE</th>\n",
       "      <th>nosql</th>\n",
       "      <th>JavaScript</th>\n",
       "      <th>Redis</th>\n",
       "      <th>dl</th>\n",
       "      <th>RabbitMQ</th>\n",
       "      <th>kafka</th>\n",
       "      <th>linux</th>\n",
       "      <th>hbase</th>\n",
       "      <th>...</th>\n",
       "      <th>statistics</th>\n",
       "      <th>XHTML</th>\n",
       "      <th>ruby</th>\n",
       "      <th>tensorflow</th>\n",
       "      <th>ml</th>\n",
       "      <th>seaborn</th>\n",
       "      <th>mapreduce</th>\n",
       "      <th>hive</th>\n",
       "      <th>Csharp</th>\n",
       "      <th>spark</th>\n",
       "    </tr>\n",
       "  </thead>\n",
       "  <tbody>\n",
       "    <tr>\n",
       "      <th>count</th>\n",
       "      <td>10562.000000</td>\n",
       "      <td>10562.000000</td>\n",
       "      <td>10562.000000</td>\n",
       "      <td>10562.000000</td>\n",
       "      <td>10562.000000</td>\n",
       "      <td>10562.000000</td>\n",
       "      <td>10562.000000</td>\n",
       "      <td>10562.000000</td>\n",
       "      <td>10562.000000</td>\n",
       "      <td>10562.000000</td>\n",
       "      <td>...</td>\n",
       "      <td>10562.000000</td>\n",
       "      <td>10562.000000</td>\n",
       "      <td>10562.000000</td>\n",
       "      <td>10562.000000</td>\n",
       "      <td>10562.000000</td>\n",
       "      <td>10562.000000</td>\n",
       "      <td>10562.000000</td>\n",
       "      <td>10562.000000</td>\n",
       "      <td>10561.000000</td>\n",
       "      <td>10561.000000</td>\n",
       "    </tr>\n",
       "    <tr>\n",
       "      <th>mean</th>\n",
       "      <td>0.193713</td>\n",
       "      <td>0.020829</td>\n",
       "      <td>0.047624</td>\n",
       "      <td>0.274569</td>\n",
       "      <td>0.026131</td>\n",
       "      <td>0.009089</td>\n",
       "      <td>0.009279</td>\n",
       "      <td>0.024711</td>\n",
       "      <td>0.007764</td>\n",
       "      <td>0.005397</td>\n",
       "      <td>...</td>\n",
       "      <td>0.144196</td>\n",
       "      <td>0.150066</td>\n",
       "      <td>0.005207</td>\n",
       "      <td>0.000189</td>\n",
       "      <td>0.131983</td>\n",
       "      <td>0.000095</td>\n",
       "      <td>0.000663</td>\n",
       "      <td>0.034653</td>\n",
       "      <td>0.073762</td>\n",
       "      <td>0.062494</td>\n",
       "    </tr>\n",
       "    <tr>\n",
       "      <th>std</th>\n",
       "      <td>0.395226</td>\n",
       "      <td>0.142820</td>\n",
       "      <td>0.212979</td>\n",
       "      <td>0.446318</td>\n",
       "      <td>0.159534</td>\n",
       "      <td>0.094907</td>\n",
       "      <td>0.095882</td>\n",
       "      <td>0.155251</td>\n",
       "      <td>0.087773</td>\n",
       "      <td>0.073267</td>\n",
       "      <td>...</td>\n",
       "      <td>0.351305</td>\n",
       "      <td>0.357153</td>\n",
       "      <td>0.071977</td>\n",
       "      <td>0.013760</td>\n",
       "      <td>0.338488</td>\n",
       "      <td>0.009730</td>\n",
       "      <td>0.025737</td>\n",
       "      <td>0.182907</td>\n",
       "      <td>0.261395</td>\n",
       "      <td>0.242062</td>\n",
       "    </tr>\n",
       "    <tr>\n",
       "      <th>min</th>\n",
       "      <td>0.000000</td>\n",
       "      <td>0.000000</td>\n",
       "      <td>0.000000</td>\n",
       "      <td>0.000000</td>\n",
       "      <td>0.000000</td>\n",
       "      <td>0.000000</td>\n",
       "      <td>0.000000</td>\n",
       "      <td>0.000000</td>\n",
       "      <td>0.000000</td>\n",
       "      <td>0.000000</td>\n",
       "      <td>...</td>\n",
       "      <td>0.000000</td>\n",
       "      <td>0.000000</td>\n",
       "      <td>0.000000</td>\n",
       "      <td>0.000000</td>\n",
       "      <td>0.000000</td>\n",
       "      <td>0.000000</td>\n",
       "      <td>0.000000</td>\n",
       "      <td>0.000000</td>\n",
       "      <td>0.000000</td>\n",
       "      <td>0.000000</td>\n",
       "    </tr>\n",
       "    <tr>\n",
       "      <th>25%</th>\n",
       "      <td>0.000000</td>\n",
       "      <td>0.000000</td>\n",
       "      <td>0.000000</td>\n",
       "      <td>0.000000</td>\n",
       "      <td>0.000000</td>\n",
       "      <td>0.000000</td>\n",
       "      <td>0.000000</td>\n",
       "      <td>0.000000</td>\n",
       "      <td>0.000000</td>\n",
       "      <td>0.000000</td>\n",
       "      <td>...</td>\n",
       "      <td>0.000000</td>\n",
       "      <td>0.000000</td>\n",
       "      <td>0.000000</td>\n",
       "      <td>0.000000</td>\n",
       "      <td>0.000000</td>\n",
       "      <td>0.000000</td>\n",
       "      <td>0.000000</td>\n",
       "      <td>0.000000</td>\n",
       "      <td>NaN</td>\n",
       "      <td>NaN</td>\n",
       "    </tr>\n",
       "    <tr>\n",
       "      <th>50%</th>\n",
       "      <td>0.000000</td>\n",
       "      <td>0.000000</td>\n",
       "      <td>0.000000</td>\n",
       "      <td>0.000000</td>\n",
       "      <td>0.000000</td>\n",
       "      <td>0.000000</td>\n",
       "      <td>0.000000</td>\n",
       "      <td>0.000000</td>\n",
       "      <td>0.000000</td>\n",
       "      <td>0.000000</td>\n",
       "      <td>...</td>\n",
       "      <td>0.000000</td>\n",
       "      <td>0.000000</td>\n",
       "      <td>0.000000</td>\n",
       "      <td>0.000000</td>\n",
       "      <td>0.000000</td>\n",
       "      <td>0.000000</td>\n",
       "      <td>0.000000</td>\n",
       "      <td>0.000000</td>\n",
       "      <td>NaN</td>\n",
       "      <td>NaN</td>\n",
       "    </tr>\n",
       "    <tr>\n",
       "      <th>75%</th>\n",
       "      <td>0.000000</td>\n",
       "      <td>0.000000</td>\n",
       "      <td>0.000000</td>\n",
       "      <td>1.000000</td>\n",
       "      <td>0.000000</td>\n",
       "      <td>0.000000</td>\n",
       "      <td>0.000000</td>\n",
       "      <td>0.000000</td>\n",
       "      <td>0.000000</td>\n",
       "      <td>0.000000</td>\n",
       "      <td>...</td>\n",
       "      <td>0.000000</td>\n",
       "      <td>0.000000</td>\n",
       "      <td>0.000000</td>\n",
       "      <td>0.000000</td>\n",
       "      <td>0.000000</td>\n",
       "      <td>0.000000</td>\n",
       "      <td>0.000000</td>\n",
       "      <td>0.000000</td>\n",
       "      <td>NaN</td>\n",
       "      <td>NaN</td>\n",
       "    </tr>\n",
       "    <tr>\n",
       "      <th>max</th>\n",
       "      <td>1.000000</td>\n",
       "      <td>1.000000</td>\n",
       "      <td>1.000000</td>\n",
       "      <td>1.000000</td>\n",
       "      <td>1.000000</td>\n",
       "      <td>1.000000</td>\n",
       "      <td>1.000000</td>\n",
       "      <td>1.000000</td>\n",
       "      <td>1.000000</td>\n",
       "      <td>1.000000</td>\n",
       "      <td>...</td>\n",
       "      <td>1.000000</td>\n",
       "      <td>1.000000</td>\n",
       "      <td>1.000000</td>\n",
       "      <td>1.000000</td>\n",
       "      <td>1.000000</td>\n",
       "      <td>1.000000</td>\n",
       "      <td>1.000000</td>\n",
       "      <td>1.000000</td>\n",
       "      <td>1.000000</td>\n",
       "      <td>1.000000</td>\n",
       "    </tr>\n",
       "  </tbody>\n",
       "</table>\n",
       "<p>8 rows × 45 columns</p>\n",
       "</div>"
      ],
      "text/plain": [
       "               node          J2EE         nosql    JavaScript         Redis  \\\n",
       "count  10562.000000  10562.000000  10562.000000  10562.000000  10562.000000   \n",
       "mean       0.193713      0.020829      0.047624      0.274569      0.026131   \n",
       "std        0.395226      0.142820      0.212979      0.446318      0.159534   \n",
       "min        0.000000      0.000000      0.000000      0.000000      0.000000   \n",
       "25%        0.000000      0.000000      0.000000      0.000000      0.000000   \n",
       "50%        0.000000      0.000000      0.000000      0.000000      0.000000   \n",
       "75%        0.000000      0.000000      0.000000      1.000000      0.000000   \n",
       "max        1.000000      1.000000      1.000000      1.000000      1.000000   \n",
       "\n",
       "                 dl      RabbitMQ         kafka         linux         hbase  \\\n",
       "count  10562.000000  10562.000000  10562.000000  10562.000000  10562.000000   \n",
       "mean       0.009089      0.009279      0.024711      0.007764      0.005397   \n",
       "std        0.094907      0.095882      0.155251      0.087773      0.073267   \n",
       "min        0.000000      0.000000      0.000000      0.000000      0.000000   \n",
       "25%        0.000000      0.000000      0.000000      0.000000      0.000000   \n",
       "50%        0.000000      0.000000      0.000000      0.000000      0.000000   \n",
       "75%        0.000000      0.000000      0.000000      0.000000      0.000000   \n",
       "max        1.000000      1.000000      1.000000      1.000000      1.000000   \n",
       "\n",
       "           ...         statistics         XHTML          ruby    tensorflow  \\\n",
       "count      ...       10562.000000  10562.000000  10562.000000  10562.000000   \n",
       "mean       ...           0.144196      0.150066      0.005207      0.000189   \n",
       "std        ...           0.351305      0.357153      0.071977      0.013760   \n",
       "min        ...           0.000000      0.000000      0.000000      0.000000   \n",
       "25%        ...           0.000000      0.000000      0.000000      0.000000   \n",
       "50%        ...           0.000000      0.000000      0.000000      0.000000   \n",
       "75%        ...           0.000000      0.000000      0.000000      0.000000   \n",
       "max        ...           1.000000      1.000000      1.000000      1.000000   \n",
       "\n",
       "                 ml       seaborn     mapreduce          hive        Csharp  \\\n",
       "count  10562.000000  10562.000000  10562.000000  10562.000000  10561.000000   \n",
       "mean       0.131983      0.000095      0.000663      0.034653      0.073762   \n",
       "std        0.338488      0.009730      0.025737      0.182907      0.261395   \n",
       "min        0.000000      0.000000      0.000000      0.000000      0.000000   \n",
       "25%        0.000000      0.000000      0.000000      0.000000           NaN   \n",
       "50%        0.000000      0.000000      0.000000      0.000000           NaN   \n",
       "75%        0.000000      0.000000      0.000000      0.000000           NaN   \n",
       "max        1.000000      1.000000      1.000000      1.000000      1.000000   \n",
       "\n",
       "              spark  \n",
       "count  10561.000000  \n",
       "mean       0.062494  \n",
       "std        0.242062  \n",
       "min        0.000000  \n",
       "25%             NaN  \n",
       "50%             NaN  \n",
       "75%             NaN  \n",
       "max        1.000000  \n",
       "\n",
       "[8 rows x 45 columns]"
      ]
     },
     "execution_count": 10,
     "metadata": {},
     "output_type": "execute_result"
    }
   ],
   "source": [
    "job_descriptions.describe()"
   ]
  },
  {
   "cell_type": "code",
   "execution_count": 18,
   "metadata": {
    "collapsed": false
   },
   "outputs": [
    {
     "data": {
      "text/plain": [
       "0.0    9168\n",
       "1.0    1394\n",
       "Name: ml, dtype: int64"
      ]
     },
     "execution_count": 18,
     "metadata": {},
     "output_type": "execute_result"
    }
   ],
   "source": [
    "job_descriptions.ml.value_counts()"
   ]
  },
  {
   "cell_type": "code",
   "execution_count": 19,
   "metadata": {
    "collapsed": false
   },
   "outputs": [
    {
     "data": {
      "text/plain": [
       "0.0    8229\n",
       "1.0    2333\n",
       "Name: python, dtype: int64"
      ]
     },
     "execution_count": 19,
     "metadata": {},
     "output_type": "execute_result"
    }
   ],
   "source": [
    "job_descriptions.python.value_counts()"
   ]
  },
  {
   "cell_type": "code",
   "execution_count": 22,
   "metadata": {
    "collapsed": false
   },
   "outputs": [
    {
     "data": {
      "text/plain": [
       "0.0    8977\n",
       "1.0    1585\n",
       "Name: XHTML, dtype: int64"
      ]
     },
     "execution_count": 22,
     "metadata": {},
     "output_type": "execute_result"
    }
   ],
   "source": [
    "job_descriptions.XHTML.value_counts()"
   ]
  }
 ],
 "metadata": {
  "anaconda-cloud": {},
  "kernelspec": {
   "display_name": "Python [Root]",
   "language": "python",
   "name": "Python [Root]"
  },
  "language_info": {
   "codemirror_mode": {
    "name": "ipython",
    "version": 2
   },
   "file_extension": ".py",
   "mimetype": "text/x-python",
   "name": "python",
   "nbconvert_exporter": "python",
   "pygments_lexer": "ipython2",
   "version": "2.7.12"
  }
 },
 "nbformat": 4,
 "nbformat_minor": 0
}
