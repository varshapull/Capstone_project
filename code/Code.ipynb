{
 "cells": [
  {
   "cell_type": "code",
   "execution_count": 40,
   "metadata": {
    "collapsed": false
   },
   "outputs": [],
   "source": [
    "import pandas as pd\n",
    "import numpy as np\n",
    "import matplotlib.pyplot as plt\n",
    "import seaborn as sns\n",
    "#users_data = pd.read_csv('users_final_set.csv')\n",
    "%matplotlib inline\n",
    "from bs4 import BeautifulSoup\n",
    "import re"
   ]
  },
  {
   "cell_type": "code",
   "execution_count": 2,
   "metadata": {
    "collapsed": true
   },
   "outputs": [],
   "source": [
    "import sqlite3\n",
    "sqlite_db = '/Users/varshapullabhotla/Documents/Capstone_project/SO_datadump/sdump.db'\n",
    "conn = sqlite3.connect(sqlite_db) \n",
    "c = conn.cursor()"
   ]
  },
  {
   "cell_type": "code",
   "execution_count": 3,
   "metadata": {
    "collapsed": true
   },
   "outputs": [],
   "source": [
    "import pandas as pd\n",
    "from pandas.io import sql\n",
    "\n",
    "s_query = \"\"\"SELECT * from users;\n",
    "\"\"\"\n",
    "users = pd.read_sql(s_query, con=conn)\n"
   ]
  },
  {
   "cell_type": "code",
   "execution_count": 4,
   "metadata": {
    "collapsed": true
   },
   "outputs": [],
   "source": [
    "users.rename(columns = {'Id':'User_Id'},inplace=True)"
   ]
  },
  {
   "cell_type": "code",
   "execution_count": 5,
   "metadata": {
    "collapsed": true
   },
   "outputs": [],
   "source": [
    "questions = pd.read_csv('/Users/varshapullabhotla/Documents/Capstone_project/stack_data/Questions.csv')\n",
    "tags = pd.read_csv('/Users/varshapullabhotla/Documents/Capstone_project/stack_data/Tags.csv')\n"
   ]
  },
  {
   "cell_type": "code",
   "execution_count": 6,
   "metadata": {
    "collapsed": true
   },
   "outputs": [],
   "source": [
    "answers = pd.read_csv('/Users/varshapullabhotla/Documents/Capstone_project/stack_data/Answers.csv')"
   ]
  },
  {
   "cell_type": "code",
   "execution_count": null,
   "metadata": {
    "collapsed": true
   },
   "outputs": [],
   "source": [
    "questions.head()"
   ]
  },
  {
   "cell_type": "code",
   "execution_count": 7,
   "metadata": {
    "collapsed": true
   },
   "outputs": [],
   "source": [
    "#Filtering users based on answers\n",
    "def question_tags(x):\n",
    "    return x['Tag'].values\n",
    "\n",
    "#Step 1 : Aggregate tags for each question\n",
    "tags_agg = tags.groupby(['Id']).apply(question_tags)\n",
    "tags_agg.name = 'tags'\n"
   ]
  },
  {
   "cell_type": "code",
   "execution_count": 8,
   "metadata": {
    "collapsed": true
   },
   "outputs": [],
   "source": [
    "tags_agg = tags_agg.reset_index()"
   ]
  },
  {
   "cell_type": "code",
   "execution_count": 9,
   "metadata": {
    "collapsed": true
   },
   "outputs": [],
   "source": [
    "#Step 2 : Merge questions with tags_agg to get tags per each question\n",
    "tags_ques = pd.merge(questions,tags_agg,how='inner',left_on='Id',right_on='Id')"
   ]
  },
  {
   "cell_type": "code",
   "execution_count": 10,
   "metadata": {
    "collapsed": true
   },
   "outputs": [],
   "source": [
    "#Step 3 : Join answers to tags per ques data frame to get tags per answer\n",
    "answers_master = pd.merge(answers,tags_ques,how='left',left_on='ParentId',right_on='Id')"
   ]
  },
  {
   "cell_type": "code",
   "execution_count": 11,
   "metadata": {
    "collapsed": false
   },
   "outputs": [],
   "source": [
    "users_masterT=pd.merge(answers_master,users,how='left',left_on='OwnerUserId_y',right_on='User_Id')"
   ]
  },
  {
   "cell_type": "code",
   "execution_count": 12,
   "metadata": {
    "collapsed": true
   },
   "outputs": [],
   "source": [
    "Answer_count=users_masterT.groupby(['OwnerUserId_y'])['Id_y'].count()\n",
    "Answer_count  = Answer_count.reset_index()"
   ]
  },
  {
   "cell_type": "code",
   "execution_count": 13,
   "metadata": {
    "collapsed": false
   },
   "outputs": [],
   "source": [
    "Users_profile= pd.merge(users_masterT,Answer_count,on ='OwnerUserId_y')"
   ]
  },
  {
   "cell_type": "code",
   "execution_count": 14,
   "metadata": {
    "collapsed": false
   },
   "outputs": [
    {
     "data": {
      "text/html": [
       "<div>\n",
       "<table border=\"1\" class=\"dataframe\">\n",
       "  <thead>\n",
       "    <tr style=\"text-align: right;\">\n",
       "      <th></th>\n",
       "      <th>Id_x</th>\n",
       "      <th>OwnerUserId_x</th>\n",
       "      <th>CreationDate_x</th>\n",
       "      <th>ParentId</th>\n",
       "      <th>Score_x</th>\n",
       "      <th>Body_x</th>\n",
       "      <th>Id_y_x</th>\n",
       "      <th>OwnerUserId_y</th>\n",
       "      <th>CreationDate_y</th>\n",
       "      <th>ClosedDate</th>\n",
       "      <th>...</th>\n",
       "      <th>Location</th>\n",
       "      <th>Views</th>\n",
       "      <th>AboutMe</th>\n",
       "      <th>LastAccessDate</th>\n",
       "      <th>ProfileImageUrl</th>\n",
       "      <th>UpVotes</th>\n",
       "      <th>CreationDate</th>\n",
       "      <th>User_Id</th>\n",
       "      <th>AccountId</th>\n",
       "      <th>Id_y_y</th>\n",
       "    </tr>\n",
       "  </thead>\n",
       "  <tbody>\n",
       "    <tr>\n",
       "      <th>0</th>\n",
       "      <td>92</td>\n",
       "      <td>61.0</td>\n",
       "      <td>2008-08-01T14:45:37Z</td>\n",
       "      <td>90</td>\n",
       "      <td>13</td>\n",
       "      <td>&lt;p&gt;&lt;a href=\"http://svnbook.red-bean.com/\"&gt;Vers...</td>\n",
       "      <td>90</td>\n",
       "      <td>58.0</td>\n",
       "      <td>2008-08-01T14:41:24Z</td>\n",
       "      <td>2012-12-26T03:45:49Z</td>\n",
       "      <td>...</td>\n",
       "      <td>Indianapolis, IN</td>\n",
       "      <td>1278.0</td>\n",
       "      <td>&lt;p&gt;Front-End Engineer at Exact Target&lt;/p&gt;\\n\\n&lt;...</td>\n",
       "      <td>2016-08-26T14:17:54.537</td>\n",
       "      <td>None</td>\n",
       "      <td>957.0</td>\n",
       "      <td>2008-08-01T13:56:33.807</td>\n",
       "      <td>58.0</td>\n",
       "      <td>47.0</td>\n",
       "      <td>22</td>\n",
       "    </tr>\n",
       "    <tr>\n",
       "      <th>1</th>\n",
       "      <td>2973</td>\n",
       "      <td>92.0</td>\n",
       "      <td>2008-08-06T00:00:22Z</td>\n",
       "      <td>2970</td>\n",
       "      <td>3</td>\n",
       "      <td>&lt;p&gt;With a six word character password, he may ...</td>\n",
       "      <td>2970</td>\n",
       "      <td>58.0</td>\n",
       "      <td>2008-08-05T23:55:25Z</td>\n",
       "      <td>2012-03-06T03:17:01Z</td>\n",
       "      <td>...</td>\n",
       "      <td>Indianapolis, IN</td>\n",
       "      <td>1278.0</td>\n",
       "      <td>&lt;p&gt;Front-End Engineer at Exact Target&lt;/p&gt;\\n\\n&lt;...</td>\n",
       "      <td>2016-08-26T14:17:54.537</td>\n",
       "      <td>None</td>\n",
       "      <td>957.0</td>\n",
       "      <td>2008-08-01T13:56:33.807</td>\n",
       "      <td>58.0</td>\n",
       "      <td>47.0</td>\n",
       "      <td>22</td>\n",
       "    </tr>\n",
       "    <tr>\n",
       "      <th>2</th>\n",
       "      <td>2976</td>\n",
       "      <td>204.0</td>\n",
       "      <td>2008-08-06T00:16:07Z</td>\n",
       "      <td>2970</td>\n",
       "      <td>13</td>\n",
       "      <td>&lt;p&gt;Try and gather as much information as you c...</td>\n",
       "      <td>2970</td>\n",
       "      <td>58.0</td>\n",
       "      <td>2008-08-05T23:55:25Z</td>\n",
       "      <td>2012-03-06T03:17:01Z</td>\n",
       "      <td>...</td>\n",
       "      <td>Indianapolis, IN</td>\n",
       "      <td>1278.0</td>\n",
       "      <td>&lt;p&gt;Front-End Engineer at Exact Target&lt;/p&gt;\\n\\n&lt;...</td>\n",
       "      <td>2016-08-26T14:17:54.537</td>\n",
       "      <td>None</td>\n",
       "      <td>957.0</td>\n",
       "      <td>2008-08-01T13:56:33.807</td>\n",
       "      <td>58.0</td>\n",
       "      <td>47.0</td>\n",
       "      <td>22</td>\n",
       "    </tr>\n",
       "    <tr>\n",
       "      <th>3</th>\n",
       "      <td>2978</td>\n",
       "      <td>419.0</td>\n",
       "      <td>2008-08-06T00:24:23Z</td>\n",
       "      <td>2970</td>\n",
       "      <td>2</td>\n",
       "      <td>&lt;P&gt;Is the site just plain static HTML? i.e. he...</td>\n",
       "      <td>2970</td>\n",
       "      <td>58.0</td>\n",
       "      <td>2008-08-05T23:55:25Z</td>\n",
       "      <td>2012-03-06T03:17:01Z</td>\n",
       "      <td>...</td>\n",
       "      <td>Indianapolis, IN</td>\n",
       "      <td>1278.0</td>\n",
       "      <td>&lt;p&gt;Front-End Engineer at Exact Target&lt;/p&gt;\\n\\n&lt;...</td>\n",
       "      <td>2016-08-26T14:17:54.537</td>\n",
       "      <td>None</td>\n",
       "      <td>957.0</td>\n",
       "      <td>2008-08-01T13:56:33.807</td>\n",
       "      <td>58.0</td>\n",
       "      <td>47.0</td>\n",
       "      <td>22</td>\n",
       "    </tr>\n",
       "    <tr>\n",
       "      <th>4</th>\n",
       "      <td>3055</td>\n",
       "      <td>116.0</td>\n",
       "      <td>2008-08-06T03:31:22Z</td>\n",
       "      <td>2970</td>\n",
       "      <td>5</td>\n",
       "      <td>&lt;p&gt;You mention your Dad was using a website pu...</td>\n",
       "      <td>2970</td>\n",
       "      <td>58.0</td>\n",
       "      <td>2008-08-05T23:55:25Z</td>\n",
       "      <td>2012-03-06T03:17:01Z</td>\n",
       "      <td>...</td>\n",
       "      <td>Indianapolis, IN</td>\n",
       "      <td>1278.0</td>\n",
       "      <td>&lt;p&gt;Front-End Engineer at Exact Target&lt;/p&gt;\\n\\n&lt;...</td>\n",
       "      <td>2016-08-26T14:17:54.537</td>\n",
       "      <td>None</td>\n",
       "      <td>957.0</td>\n",
       "      <td>2008-08-01T13:56:33.807</td>\n",
       "      <td>58.0</td>\n",
       "      <td>47.0</td>\n",
       "      <td>22</td>\n",
       "    </tr>\n",
       "  </tbody>\n",
       "</table>\n",
       "<p>5 rows × 30 columns</p>\n",
       "</div>"
      ],
      "text/plain": [
       "   Id_x  OwnerUserId_x        CreationDate_x  ParentId  Score_x  \\\n",
       "0    92           61.0  2008-08-01T14:45:37Z        90       13   \n",
       "1  2973           92.0  2008-08-06T00:00:22Z      2970        3   \n",
       "2  2976          204.0  2008-08-06T00:16:07Z      2970       13   \n",
       "3  2978          419.0  2008-08-06T00:24:23Z      2970        2   \n",
       "4  3055          116.0  2008-08-06T03:31:22Z      2970        5   \n",
       "\n",
       "                                              Body_x  Id_y_x  OwnerUserId_y  \\\n",
       "0  <p><a href=\"http://svnbook.red-bean.com/\">Vers...      90           58.0   \n",
       "1  <p>With a six word character password, he may ...    2970           58.0   \n",
       "2  <p>Try and gather as much information as you c...    2970           58.0   \n",
       "3  <P>Is the site just plain static HTML? i.e. he...    2970           58.0   \n",
       "4  <p>You mention your Dad was using a website pu...    2970           58.0   \n",
       "\n",
       "         CreationDate_y            ClosedDate   ...            Location  \\\n",
       "0  2008-08-01T14:41:24Z  2012-12-26T03:45:49Z   ...    Indianapolis, IN   \n",
       "1  2008-08-05T23:55:25Z  2012-03-06T03:17:01Z   ...    Indianapolis, IN   \n",
       "2  2008-08-05T23:55:25Z  2012-03-06T03:17:01Z   ...    Indianapolis, IN   \n",
       "3  2008-08-05T23:55:25Z  2012-03-06T03:17:01Z   ...    Indianapolis, IN   \n",
       "4  2008-08-05T23:55:25Z  2012-03-06T03:17:01Z   ...    Indianapolis, IN   \n",
       "\n",
       "    Views                                            AboutMe  \\\n",
       "0  1278.0  <p>Front-End Engineer at Exact Target</p>\\n\\n<...   \n",
       "1  1278.0  <p>Front-End Engineer at Exact Target</p>\\n\\n<...   \n",
       "2  1278.0  <p>Front-End Engineer at Exact Target</p>\\n\\n<...   \n",
       "3  1278.0  <p>Front-End Engineer at Exact Target</p>\\n\\n<...   \n",
       "4  1278.0  <p>Front-End Engineer at Exact Target</p>\\n\\n<...   \n",
       "\n",
       "            LastAccessDate  ProfileImageUrl UpVotes             CreationDate  \\\n",
       "0  2016-08-26T14:17:54.537             None   957.0  2008-08-01T13:56:33.807   \n",
       "1  2016-08-26T14:17:54.537             None   957.0  2008-08-01T13:56:33.807   \n",
       "2  2016-08-26T14:17:54.537             None   957.0  2008-08-01T13:56:33.807   \n",
       "3  2016-08-26T14:17:54.537             None   957.0  2008-08-01T13:56:33.807   \n",
       "4  2016-08-26T14:17:54.537             None   957.0  2008-08-01T13:56:33.807   \n",
       "\n",
       "  User_Id AccountId  Id_y_y  \n",
       "0    58.0      47.0      22  \n",
       "1    58.0      47.0      22  \n",
       "2    58.0      47.0      22  \n",
       "3    58.0      47.0      22  \n",
       "4    58.0      47.0      22  \n",
       "\n",
       "[5 rows x 30 columns]"
      ]
     },
     "execution_count": 14,
     "metadata": {},
     "output_type": "execute_result"
    }
   ],
   "source": [
    "Users_profile.head()"
   ]
  },
  {
   "cell_type": "code",
   "execution_count": 16,
   "metadata": {
    "collapsed": false
   },
   "outputs": [
    {
     "name": "stdout",
     "output_type": "stream",
     "text": [
      "<class 'pandas.core.frame.DataFrame'>\n",
      "Int64Index: 1982623 entries, 0 to 1982622\n",
      "Data columns (total 30 columns):\n",
      "Id_x               int64\n",
      "OwnerUserId_x      float64\n",
      "CreationDate_x     object\n",
      "ParentId           int64\n",
      "Score_x            int64\n",
      "Body_x             object\n",
      "Id_y_x             int64\n",
      "OwnerUserId_y      float64\n",
      "CreationDate_y     object\n",
      "ClosedDate         object\n",
      "Score_y            int64\n",
      "Title              object\n",
      "Body_y             object\n",
      "tags               object\n",
      "DownVotes          float64\n",
      "DisplayName        object\n",
      "Age                float64\n",
      "WebsiteUrl         object\n",
      "EmailHash          object\n",
      "Reputation         float64\n",
      "Location           object\n",
      "Views              float64\n",
      "AboutMe            object\n",
      "LastAccessDate     object\n",
      "ProfileImageUrl    object\n",
      "UpVotes            float64\n",
      "CreationDate       object\n",
      "User_Id            float64\n",
      "AccountId          float64\n",
      "Id_y_y             int64\n",
      "dtypes: float64(9), int64(6), object(15)\n",
      "memory usage: 468.9+ MB\n"
     ]
    }
   ],
   "source": [
    "Users_profile.info()"
   ]
  },
  {
   "cell_type": "code",
   "execution_count": 16,
   "metadata": {
    "collapsed": false
   },
   "outputs": [],
   "source": [
    "Users_profile.to_csv('users_profile.csv',encoding='utf-8')"
   ]
  },
  {
   "cell_type": "code",
   "execution_count": 17,
   "metadata": {
    "collapsed": true
   },
   "outputs": [],
   "source": [
    "users_aboutme_people = users_masterT[users_masterT['AboutMe'] != 'None']"
   ]
  },
  {
   "cell_type": "code",
   "execution_count": 18,
   "metadata": {
    "collapsed": false
   },
   "outputs": [
    {
     "name": "stdout",
     "output_type": "stream",
     "text": [
      "<class 'pandas.core.frame.DataFrame'>\n",
      "Int64Index: 1982598 entries, 0 to 1982622\n",
      "Data columns (total 30 columns):\n",
      "Id_x               int64\n",
      "OwnerUserId_x      float64\n",
      "CreationDate_x     object\n",
      "ParentId           int64\n",
      "Score_x            int64\n",
      "Body_x             object\n",
      "Id_y_x             int64\n",
      "OwnerUserId_y      float64\n",
      "CreationDate_y     object\n",
      "ClosedDate         object\n",
      "Score_y            int64\n",
      "Title              object\n",
      "Body_y             object\n",
      "tags               object\n",
      "DownVotes          float64\n",
      "DisplayName        object\n",
      "Age                float64\n",
      "WebsiteUrl         object\n",
      "EmailHash          object\n",
      "Reputation         float64\n",
      "Location           object\n",
      "Views              float64\n",
      "AboutMe            object\n",
      "LastAccessDate     object\n",
      "ProfileImageUrl    object\n",
      "UpVotes            float64\n",
      "CreationDate       object\n",
      "User_Id            float64\n",
      "AccountId          float64\n",
      "Id_y_y             int64\n",
      "dtypes: float64(9), int64(6), object(15)\n",
      "memory usage: 468.9+ MB\n"
     ]
    }
   ],
   "source": [
    "users_aboutme_people.info()"
   ]
  },
  {
   "cell_type": "code",
   "execution_count": 19,
   "metadata": {
    "collapsed": true
   },
   "outputs": [],
   "source": [
    "users_aboutme_people = users_aboutme_people[pd.notnull(users_aboutme_people['AboutMe'])]"
   ]
  },
  {
   "cell_type": "code",
   "execution_count": 25,
   "metadata": {
    "collapsed": false
   },
   "outputs": [
    {
     "data": {
      "text/plain": [
       "<matplotlib.axes._subplots.AxesSubplot at 0x160f48ed0>"
      ]
     },
     "execution_count": 25,
     "metadata": {},
     "output_type": "execute_result"
    },
    {
     "data": {
      "image/png": "[encoded data removed]",
      "text/plain": [
       "<matplotlib.figure.Figure at 0x159216050>"
      ]
     },
     "metadata": {},
     "output_type": "display_data"
    }
   ],
   "source": [
    "#Picking threshold for answer count\n",
    "#Distribution of answer counts for people with about me's\n",
    "users_aboutme_people.Id_y_y.plot(kind='hist')\n"
   ]
  },
  {
   "cell_type": "code",
   "execution_count": 26,
   "metadata": {
    "collapsed": false
   },
   "outputs": [
    {
     "data": {
      "text/html": [
       "<div>\n",
       "<table border=\"1\" class=\"dataframe\">\n",
       "  <thead>\n",
       "    <tr style=\"text-align: right;\">\n",
       "      <th></th>\n",
       "      <th>Id_x</th>\n",
       "      <th>OwnerUserId_x</th>\n",
       "      <th>ParentId</th>\n",
       "      <th>Score_x</th>\n",
       "      <th>Id_y_x</th>\n",
       "      <th>OwnerUserId_y</th>\n",
       "      <th>Score_y</th>\n",
       "      <th>DownVotes</th>\n",
       "      <th>Age</th>\n",
       "      <th>Reputation</th>\n",
       "      <th>Views</th>\n",
       "      <th>UpVotes</th>\n",
       "      <th>User_Id</th>\n",
       "      <th>AccountId</th>\n",
       "      <th>Id_y_y</th>\n",
       "    </tr>\n",
       "  </thead>\n",
       "  <tbody>\n",
       "    <tr>\n",
       "      <th>count</th>\n",
       "      <td>1.405253e+06</td>\n",
       "      <td>1.396405e+06</td>\n",
       "      <td>1.405253e+06</td>\n",
       "      <td>1.405253e+06</td>\n",
       "      <td>1.405253e+06</td>\n",
       "      <td>1.405253e+06</td>\n",
       "      <td>1.405253e+06</td>\n",
       "      <td>1.405253e+06</td>\n",
       "      <td>582685.000000</td>\n",
       "      <td>1.405253e+06</td>\n",
       "      <td>1.405253e+06</td>\n",
       "      <td>1.405253e+06</td>\n",
       "      <td>1.405253e+06</td>\n",
       "      <td>1.405253e+06</td>\n",
       "      <td>1.405253e+06</td>\n",
       "    </tr>\n",
       "    <tr>\n",
       "      <th>mean</th>\n",
       "      <td>1.791934e+07</td>\n",
       "      <td>1.338977e+06</td>\n",
       "      <td>1.672600e+07</td>\n",
       "      <td>2.819587e+00</td>\n",
       "      <td>1.672600e+07</td>\n",
       "      <td>1.422938e+06</td>\n",
       "      <td>6.702583e+00</td>\n",
       "      <td>4.385246e+01</td>\n",
       "      <td>31.647466</td>\n",
       "      <td>4.652704e+03</td>\n",
       "      <td>9.554672e+02</td>\n",
       "      <td>4.249694e+02</td>\n",
       "      <td>1.422938e+06</td>\n",
       "      <td>1.522480e+06</td>\n",
       "      <td>2.045887e+01</td>\n",
       "    </tr>\n",
       "    <tr>\n",
       "      <th>std</th>\n",
       "      <td>1.138228e+07</td>\n",
       "      <td>1.436200e+06</td>\n",
       "      <td>1.126697e+07</td>\n",
       "      <td>1.751557e+01</td>\n",
       "      <td>1.126697e+07</td>\n",
       "      <td>1.396760e+06</td>\n",
       "      <td>4.758499e+01</td>\n",
       "      <td>4.129714e+02</td>\n",
       "      <td>8.874793</td>\n",
       "      <td>2.219246e+04</td>\n",
       "      <td>2.154672e+04</td>\n",
       "      <td>1.125259e+03</td>\n",
       "      <td>1.396760e+06</td>\n",
       "      <td>1.822750e+06</td>\n",
       "      <td>3.808981e+01</td>\n",
       "    </tr>\n",
       "    <tr>\n",
       "      <th>min</th>\n",
       "      <td>9.200000e+01</td>\n",
       "      <td>1.000000e+00</td>\n",
       "      <td>8.000000e+01</td>\n",
       "      <td>-4.200000e+01</td>\n",
       "      <td>8.000000e+01</td>\n",
       "      <td>1.000000e+00</td>\n",
       "      <td>-4.900000e+01</td>\n",
       "      <td>0.000000e+00</td>\n",
       "      <td>13.000000</td>\n",
       "      <td>1.000000e+00</td>\n",
       "      <td>0.000000e+00</td>\n",
       "      <td>0.000000e+00</td>\n",
       "      <td>1.000000e+00</td>\n",
       "      <td>1.000000e+00</td>\n",
       "      <td>1.000000e+00</td>\n",
       "    </tr>\n",
       "    <tr>\n",
       "      <th>25%</th>\n",
       "      <td>8.037841e+06</td>\n",
       "      <td>NaN</td>\n",
       "      <td>6.918720e+06</td>\n",
       "      <td>0.000000e+00</td>\n",
       "      <td>6.918720e+06</td>\n",
       "      <td>3.290010e+05</td>\n",
       "      <td>0.000000e+00</td>\n",
       "      <td>0.000000e+00</td>\n",
       "      <td>NaN</td>\n",
       "      <td>1.310000e+02</td>\n",
       "      <td>2.900000e+01</td>\n",
       "      <td>1.500000e+01</td>\n",
       "      <td>3.290010e+05</td>\n",
       "      <td>1.288030e+05</td>\n",
       "      <td>3.000000e+00</td>\n",
       "    </tr>\n",
       "    <tr>\n",
       "      <th>50%</th>\n",
       "      <td>1.697446e+07</td>\n",
       "      <td>NaN</td>\n",
       "      <td>1.526964e+07</td>\n",
       "      <td>1.000000e+00</td>\n",
       "      <td>1.526964e+07</td>\n",
       "      <td>9.793870e+05</td>\n",
       "      <td>1.000000e+00</td>\n",
       "      <td>2.000000e+00</td>\n",
       "      <td>NaN</td>\n",
       "      <td>7.280000e+02</td>\n",
       "      <td>1.160000e+02</td>\n",
       "      <td>8.700000e+01</td>\n",
       "      <td>9.793870e+05</td>\n",
       "      <td>9.065690e+05</td>\n",
       "      <td>8.000000e+00</td>\n",
       "    </tr>\n",
       "    <tr>\n",
       "      <th>75%</th>\n",
       "      <td>2.729834e+07</td>\n",
       "      <td>NaN</td>\n",
       "      <td>2.568156e+07</td>\n",
       "      <td>2.000000e+00</td>\n",
       "      <td>2.568156e+07</td>\n",
       "      <td>2.103088e+06</td>\n",
       "      <td>3.000000e+00</td>\n",
       "      <td>1.300000e+01</td>\n",
       "      <td>NaN</td>\n",
       "      <td>2.936000e+03</td>\n",
       "      <td>4.180000e+02</td>\n",
       "      <td>3.750000e+02</td>\n",
       "      <td>2.103088e+06</td>\n",
       "      <td>2.335547e+06</td>\n",
       "      <td>2.100000e+01</td>\n",
       "    </tr>\n",
       "    <tr>\n",
       "      <th>max</th>\n",
       "      <td>4.014339e+07</td>\n",
       "      <td>7.045028e+06</td>\n",
       "      <td>4.014291e+07</td>\n",
       "      <td>5.718000e+03</td>\n",
       "      <td>4.014291e+07</td>\n",
       "      <td>6.792054e+06</td>\n",
       "      <td>5.190000e+03</td>\n",
       "      <td>3.899800e+04</td>\n",
       "      <td>96.000000</td>\n",
       "      <td>8.910620e+05</td>\n",
       "      <td>1.232112e+06</td>\n",
       "      <td>5.967400e+04</td>\n",
       "      <td>6.792054e+06</td>\n",
       "      <td>9.129987e+06</td>\n",
       "      <td>5.390000e+02</td>\n",
       "    </tr>\n",
       "  </tbody>\n",
       "</table>\n",
       "</div>"
      ],
      "text/plain": [
       "               Id_x  OwnerUserId_x      ParentId       Score_x        Id_y_x  \\\n",
       "count  1.405253e+06   1.396405e+06  1.405253e+06  1.405253e+06  1.405253e+06   \n",
       "mean   1.791934e+07   1.338977e+06  1.672600e+07  2.819587e+00  1.672600e+07   \n",
       "std    1.138228e+07   1.436200e+06  1.126697e+07  1.751557e+01  1.126697e+07   \n",
       "min    9.200000e+01   1.000000e+00  8.000000e+01 -4.200000e+01  8.000000e+01   \n",
       "25%    8.037841e+06            NaN  6.918720e+06  0.000000e+00  6.918720e+06   \n",
       "50%    1.697446e+07            NaN  1.526964e+07  1.000000e+00  1.526964e+07   \n",
       "75%    2.729834e+07            NaN  2.568156e+07  2.000000e+00  2.568156e+07   \n",
       "max    4.014339e+07   7.045028e+06  4.014291e+07  5.718000e+03  4.014291e+07   \n",
       "\n",
       "       OwnerUserId_y       Score_y     DownVotes            Age    Reputation  \\\n",
       "count   1.405253e+06  1.405253e+06  1.405253e+06  582685.000000  1.405253e+06   \n",
       "mean    1.422938e+06  6.702583e+00  4.385246e+01      31.647466  4.652704e+03   \n",
       "std     1.396760e+06  4.758499e+01  4.129714e+02       8.874793  2.219246e+04   \n",
       "min     1.000000e+00 -4.900000e+01  0.000000e+00      13.000000  1.000000e+00   \n",
       "25%     3.290010e+05  0.000000e+00  0.000000e+00            NaN  1.310000e+02   \n",
       "50%     9.793870e+05  1.000000e+00  2.000000e+00            NaN  7.280000e+02   \n",
       "75%     2.103088e+06  3.000000e+00  1.300000e+01            NaN  2.936000e+03   \n",
       "max     6.792054e+06  5.190000e+03  3.899800e+04      96.000000  8.910620e+05   \n",
       "\n",
       "              Views       UpVotes       User_Id     AccountId        Id_y_y  \n",
       "count  1.405253e+06  1.405253e+06  1.405253e+06  1.405253e+06  1.405253e+06  \n",
       "mean   9.554672e+02  4.249694e+02  1.422938e+06  1.522480e+06  2.045887e+01  \n",
       "std    2.154672e+04  1.125259e+03  1.396760e+06  1.822750e+06  3.808981e+01  \n",
       "min    0.000000e+00  0.000000e+00  1.000000e+00  1.000000e+00  1.000000e+00  \n",
       "25%    2.900000e+01  1.500000e+01  3.290010e+05  1.288030e+05  3.000000e+00  \n",
       "50%    1.160000e+02  8.700000e+01  9.793870e+05  9.065690e+05  8.000000e+00  \n",
       "75%    4.180000e+02  3.750000e+02  2.103088e+06  2.335547e+06  2.100000e+01  \n",
       "max    1.232112e+06  5.967400e+04  6.792054e+06  9.129987e+06  5.390000e+02  "
      ]
     },
     "execution_count": 26,
     "metadata": {},
     "output_type": "execute_result"
    }
   ],
   "source": [
    "users_aboutme_people.describe()"
   ]
  },
  {
   "cell_type": "code",
   "execution_count": 27,
   "metadata": {
    "collapsed": true
   },
   "outputs": [],
   "source": [
    "users_final_set = users_aboutme_people[users_aboutme_people['Id_y_y'] > 10]"
   ]
  },
  {
   "cell_type": "code",
   "execution_count": 29,
   "metadata": {
    "collapsed": false
   },
   "outputs": [
    {
     "data": {
      "text/html": [
       "<div>\n",
       "<table border=\"1\" class=\"dataframe\">\n",
       "  <thead>\n",
       "    <tr style=\"text-align: right;\">\n",
       "      <th></th>\n",
       "      <th>Id_x</th>\n",
       "      <th>OwnerUserId_x</th>\n",
       "      <th>CreationDate_x</th>\n",
       "      <th>ParentId</th>\n",
       "      <th>Score_x</th>\n",
       "      <th>Body_x</th>\n",
       "      <th>Id_y_x</th>\n",
       "      <th>OwnerUserId_y</th>\n",
       "      <th>CreationDate_y</th>\n",
       "      <th>ClosedDate</th>\n",
       "      <th>...</th>\n",
       "      <th>Location</th>\n",
       "      <th>Views</th>\n",
       "      <th>AboutMe</th>\n",
       "      <th>LastAccessDate</th>\n",
       "      <th>ProfileImageUrl</th>\n",
       "      <th>UpVotes</th>\n",
       "      <th>CreationDate</th>\n",
       "      <th>User_Id</th>\n",
       "      <th>AccountId</th>\n",
       "      <th>Id_y_y</th>\n",
       "    </tr>\n",
       "  </thead>\n",
       "  <tbody>\n",
       "    <tr>\n",
       "      <th>0</th>\n",
       "      <td>92</td>\n",
       "      <td>61.0</td>\n",
       "      <td>2008-08-01T14:45:37Z</td>\n",
       "      <td>90</td>\n",
       "      <td>13</td>\n",
       "      <td>&lt;p&gt;&lt;a href=\"http://svnbook.red-bean.com/\"&gt;Vers...</td>\n",
       "      <td>90</td>\n",
       "      <td>58.0</td>\n",
       "      <td>2008-08-01T14:41:24Z</td>\n",
       "      <td>2012-12-26T03:45:49Z</td>\n",
       "      <td>...</td>\n",
       "      <td>Indianapolis, IN</td>\n",
       "      <td>1278.0</td>\n",
       "      <td>&lt;p&gt;Front-End Engineer at Exact Target&lt;/p&gt;\\n\\n&lt;...</td>\n",
       "      <td>2016-08-26T14:17:54.537</td>\n",
       "      <td>None</td>\n",
       "      <td>957.0</td>\n",
       "      <td>2008-08-01T13:56:33.807</td>\n",
       "      <td>58.0</td>\n",
       "      <td>47.0</td>\n",
       "      <td>22</td>\n",
       "    </tr>\n",
       "    <tr>\n",
       "      <th>1</th>\n",
       "      <td>2973</td>\n",
       "      <td>92.0</td>\n",
       "      <td>2008-08-06T00:00:22Z</td>\n",
       "      <td>2970</td>\n",
       "      <td>3</td>\n",
       "      <td>&lt;p&gt;With a six word character password, he may ...</td>\n",
       "      <td>2970</td>\n",
       "      <td>58.0</td>\n",
       "      <td>2008-08-05T23:55:25Z</td>\n",
       "      <td>2012-03-06T03:17:01Z</td>\n",
       "      <td>...</td>\n",
       "      <td>Indianapolis, IN</td>\n",
       "      <td>1278.0</td>\n",
       "      <td>&lt;p&gt;Front-End Engineer at Exact Target&lt;/p&gt;\\n\\n&lt;...</td>\n",
       "      <td>2016-08-26T14:17:54.537</td>\n",
       "      <td>None</td>\n",
       "      <td>957.0</td>\n",
       "      <td>2008-08-01T13:56:33.807</td>\n",
       "      <td>58.0</td>\n",
       "      <td>47.0</td>\n",
       "      <td>22</td>\n",
       "    </tr>\n",
       "    <tr>\n",
       "      <th>2</th>\n",
       "      <td>2976</td>\n",
       "      <td>204.0</td>\n",
       "      <td>2008-08-06T00:16:07Z</td>\n",
       "      <td>2970</td>\n",
       "      <td>13</td>\n",
       "      <td>&lt;p&gt;Try and gather as much information as you c...</td>\n",
       "      <td>2970</td>\n",
       "      <td>58.0</td>\n",
       "      <td>2008-08-05T23:55:25Z</td>\n",
       "      <td>2012-03-06T03:17:01Z</td>\n",
       "      <td>...</td>\n",
       "      <td>Indianapolis, IN</td>\n",
       "      <td>1278.0</td>\n",
       "      <td>&lt;p&gt;Front-End Engineer at Exact Target&lt;/p&gt;\\n\\n&lt;...</td>\n",
       "      <td>2016-08-26T14:17:54.537</td>\n",
       "      <td>None</td>\n",
       "      <td>957.0</td>\n",
       "      <td>2008-08-01T13:56:33.807</td>\n",
       "      <td>58.0</td>\n",
       "      <td>47.0</td>\n",
       "      <td>22</td>\n",
       "    </tr>\n",
       "    <tr>\n",
       "      <th>3</th>\n",
       "      <td>2978</td>\n",
       "      <td>419.0</td>\n",
       "      <td>2008-08-06T00:24:23Z</td>\n",
       "      <td>2970</td>\n",
       "      <td>2</td>\n",
       "      <td>&lt;P&gt;Is the site just plain static HTML? i.e. he...</td>\n",
       "      <td>2970</td>\n",
       "      <td>58.0</td>\n",
       "      <td>2008-08-05T23:55:25Z</td>\n",
       "      <td>2012-03-06T03:17:01Z</td>\n",
       "      <td>...</td>\n",
       "      <td>Indianapolis, IN</td>\n",
       "      <td>1278.0</td>\n",
       "      <td>&lt;p&gt;Front-End Engineer at Exact Target&lt;/p&gt;\\n\\n&lt;...</td>\n",
       "      <td>2016-08-26T14:17:54.537</td>\n",
       "      <td>None</td>\n",
       "      <td>957.0</td>\n",
       "      <td>2008-08-01T13:56:33.807</td>\n",
       "      <td>58.0</td>\n",
       "      <td>47.0</td>\n",
       "      <td>22</td>\n",
       "    </tr>\n",
       "    <tr>\n",
       "      <th>4</th>\n",
       "      <td>3055</td>\n",
       "      <td>116.0</td>\n",
       "      <td>2008-08-06T03:31:22Z</td>\n",
       "      <td>2970</td>\n",
       "      <td>5</td>\n",
       "      <td>&lt;p&gt;You mention your Dad was using a website pu...</td>\n",
       "      <td>2970</td>\n",
       "      <td>58.0</td>\n",
       "      <td>2008-08-05T23:55:25Z</td>\n",
       "      <td>2012-03-06T03:17:01Z</td>\n",
       "      <td>...</td>\n",
       "      <td>Indianapolis, IN</td>\n",
       "      <td>1278.0</td>\n",
       "      <td>&lt;p&gt;Front-End Engineer at Exact Target&lt;/p&gt;\\n\\n&lt;...</td>\n",
       "      <td>2016-08-26T14:17:54.537</td>\n",
       "      <td>None</td>\n",
       "      <td>957.0</td>\n",
       "      <td>2008-08-01T13:56:33.807</td>\n",
       "      <td>58.0</td>\n",
       "      <td>47.0</td>\n",
       "      <td>22</td>\n",
       "    </tr>\n",
       "  </tbody>\n",
       "</table>\n",
       "<p>5 rows × 30 columns</p>\n",
       "</div>"
      ],
      "text/plain": [
       "   Id_x  OwnerUserId_x        CreationDate_x  ParentId  Score_x  \\\n",
       "0    92           61.0  2008-08-01T14:45:37Z        90       13   \n",
       "1  2973           92.0  2008-08-06T00:00:22Z      2970        3   \n",
       "2  2976          204.0  2008-08-06T00:16:07Z      2970       13   \n",
       "3  2978          419.0  2008-08-06T00:24:23Z      2970        2   \n",
       "4  3055          116.0  2008-08-06T03:31:22Z      2970        5   \n",
       "\n",
       "                                              Body_x  Id_y_x  OwnerUserId_y  \\\n",
       "0  <p><a href=\"http://svnbook.red-bean.com/\">Vers...      90           58.0   \n",
       "1  <p>With a six word character password, he may ...    2970           58.0   \n",
       "2  <p>Try and gather as much information as you c...    2970           58.0   \n",
       "3  <P>Is the site just plain static HTML? i.e. he...    2970           58.0   \n",
       "4  <p>You mention your Dad was using a website pu...    2970           58.0   \n",
       "\n",
       "         CreationDate_y            ClosedDate   ...            Location  \\\n",
       "0  2008-08-01T14:41:24Z  2012-12-26T03:45:49Z   ...    Indianapolis, IN   \n",
       "1  2008-08-05T23:55:25Z  2012-03-06T03:17:01Z   ...    Indianapolis, IN   \n",
       "2  2008-08-05T23:55:25Z  2012-03-06T03:17:01Z   ...    Indianapolis, IN   \n",
       "3  2008-08-05T23:55:25Z  2012-03-06T03:17:01Z   ...    Indianapolis, IN   \n",
       "4  2008-08-05T23:55:25Z  2012-03-06T03:17:01Z   ...    Indianapolis, IN   \n",
       "\n",
       "    Views                                            AboutMe  \\\n",
       "0  1278.0  <p>Front-End Engineer at Exact Target</p>\\n\\n<...   \n",
       "1  1278.0  <p>Front-End Engineer at Exact Target</p>\\n\\n<...   \n",
       "2  1278.0  <p>Front-End Engineer at Exact Target</p>\\n\\n<...   \n",
       "3  1278.0  <p>Front-End Engineer at Exact Target</p>\\n\\n<...   \n",
       "4  1278.0  <p>Front-End Engineer at Exact Target</p>\\n\\n<...   \n",
       "\n",
       "            LastAccessDate  ProfileImageUrl UpVotes             CreationDate  \\\n",
       "0  2016-08-26T14:17:54.537             None   957.0  2008-08-01T13:56:33.807   \n",
       "1  2016-08-26T14:17:54.537             None   957.0  2008-08-01T13:56:33.807   \n",
       "2  2016-08-26T14:17:54.537             None   957.0  2008-08-01T13:56:33.807   \n",
       "3  2016-08-26T14:17:54.537             None   957.0  2008-08-01T13:56:33.807   \n",
       "4  2016-08-26T14:17:54.537             None   957.0  2008-08-01T13:56:33.807   \n",
       "\n",
       "  User_Id AccountId  Id_y_y  \n",
       "0    58.0      47.0      22  \n",
       "1    58.0      47.0      22  \n",
       "2    58.0      47.0      22  \n",
       "3    58.0      47.0      22  \n",
       "4    58.0      47.0      22  \n",
       "\n",
       "[5 rows x 30 columns]"
      ]
     },
     "execution_count": 29,
     "metadata": {},
     "output_type": "execute_result"
    }
   ],
   "source": [
    "users_final_set.head()"
   ]
  },
  {
   "cell_type": "code",
   "execution_count": 30,
   "metadata": {
    "collapsed": false
   },
   "outputs": [
    {
     "name": "stdout",
     "output_type": "stream",
     "text": [
      "<class 'pandas.core.frame.DataFrame'>\n",
      "Int64Index: 591606 entries, 0 to 1976464\n",
      "Data columns (total 30 columns):\n",
      "Id_x               591606 non-null int64\n",
      "OwnerUserId_x      587092 non-null float64\n",
      "CreationDate_x     591606 non-null object\n",
      "ParentId           591606 non-null int64\n",
      "Score_x            591606 non-null int64\n",
      "Body_x             591606 non-null object\n",
      "Id_y_x             591606 non-null int64\n",
      "OwnerUserId_y      591606 non-null float64\n",
      "CreationDate_y     591606 non-null object\n",
      "ClosedDate         29101 non-null object\n",
      "Score_y            591606 non-null int64\n",
      "Title              591606 non-null object\n",
      "Body_y             591606 non-null object\n",
      "tags               591606 non-null object\n",
      "DownVotes          591606 non-null float64\n",
      "DisplayName        591606 non-null object\n",
      "Age                276816 non-null float64\n",
      "WebsiteUrl         539242 non-null object\n",
      "EmailHash          0 non-null object\n",
      "Reputation         591606 non-null float64\n",
      "Location           381042 non-null object\n",
      "Views              591606 non-null float64\n",
      "AboutMe            591606 non-null object\n",
      "LastAccessDate     591606 non-null object\n",
      "ProfileImageUrl    177490 non-null object\n",
      "UpVotes            591606 non-null float64\n",
      "CreationDate       591606 non-null object\n",
      "User_Id            591606 non-null float64\n",
      "AccountId          591606 non-null float64\n",
      "Id_y_y             591606 non-null int64\n",
      "dtypes: float64(9), int64(6), object(15)\n",
      "memory usage: 139.9+ MB\n"
     ]
    }
   ],
   "source": [
    "users_final_set.info()"
   ]
  },
  {
   "cell_type": "code",
   "execution_count": 31,
   "metadata": {
    "collapsed": false
   },
   "outputs": [
    {
     "name": "stderr",
     "output_type": "stream",
     "text": [
      "/Users/varshapullabhotla/anaconda/lib/python2.7/site-packages/pandas/core/frame.py:2754: SettingWithCopyWarning: \n",
      "A value is trying to be set on a copy of a slice from a DataFrame\n",
      "\n",
      "See the caveats in the documentation: http://pandas.pydata.org/pandas-docs/stable/indexing.html#indexing-view-versus-copy\n",
      "  **kwargs)\n"
     ]
    }
   ],
   "source": [
    "users_final_set.rename(columns = {'Id_y_y': 'Answer_count','Body_y':'Answer_body','Score_y':'Answer_score','CreationDate_y':\n",
    "                       'Answer_CreationDate','OwnerUserId_y':'Answer_OwnerId','Id_y_x':'Answer_id','Body_x':\n",
    "                       'Question_body','Score_x':'Question_score','CreationDate_x':'Question_CreationDate',\n",
    "                       'OwnerUserId_x':'Question_OwnerId','Id_x':'Question_id'},inplace=True)"
   ]
  },
  {
   "cell_type": "code",
   "execution_count": 32,
   "metadata": {
    "collapsed": false
   },
   "outputs": [
    {
     "name": "stdout",
     "output_type": "stream",
     "text": [
      "<class 'pandas.core.frame.DataFrame'>\n",
      "Int64Index: 591606 entries, 0 to 1976464\n",
      "Data columns (total 30 columns):\n",
      "Question_id              591606 non-null int64\n",
      "Question_OwnerId         587092 non-null float64\n",
      "Question_CreationDate    591606 non-null object\n",
      "ParentId                 591606 non-null int64\n",
      "Question_score           591606 non-null int64\n",
      "Question_body            591606 non-null object\n",
      "Answer_id                591606 non-null int64\n",
      "Answer_OwnerId           591606 non-null float64\n",
      "Answer_CreationDate      591606 non-null object\n",
      "ClosedDate               29101 non-null object\n",
      "Answer_score             591606 non-null int64\n",
      "Title                    591606 non-null object\n",
      "Answer_body              591606 non-null object\n",
      "tags                     591606 non-null object\n",
      "DownVotes                591606 non-null float64\n",
      "DisplayName              591606 non-null object\n",
      "Age                      276816 non-null float64\n",
      "WebsiteUrl               539242 non-null object\n",
      "EmailHash                0 non-null object\n",
      "Reputation               591606 non-null float64\n",
      "Location                 381042 non-null object\n",
      "Views                    591606 non-null float64\n",
      "AboutMe                  591606 non-null object\n",
      "LastAccessDate           591606 non-null object\n",
      "ProfileImageUrl          177490 non-null object\n",
      "UpVotes                  591606 non-null float64\n",
      "CreationDate             591606 non-null object\n",
      "User_Id                  591606 non-null float64\n",
      "AccountId                591606 non-null float64\n",
      "Answer_count             591606 non-null int64\n",
      "dtypes: float64(9), int64(6), object(15)\n",
      "memory usage: 139.9+ MB\n"
     ]
    }
   ],
   "source": [
    "users_final_set.info()"
   ]
  },
  {
   "cell_type": "code",
   "execution_count": 34,
   "metadata": {
    "collapsed": false
   },
   "outputs": [
    {
     "name": "stdout",
     "output_type": "stream",
     "text": [
      "25562\n"
     ]
    },
    {
     "data": {
      "text/plain": [
       "(591606, 30)"
      ]
     },
     "execution_count": 34,
     "metadata": {},
     "output_type": "execute_result"
    }
   ],
   "source": [
    "#Unique number of users \n",
    "print len(users_final_set.Answer_OwnerId.unique())\n",
    "\n",
    "#Shape of the data set\n",
    "users_final_set.shape"
   ]
  },
  {
   "cell_type": "code",
   "execution_count": null,
   "metadata": {
    "collapsed": true
   },
   "outputs": [],
   "source": [
    "#Cleaning the data set"
   ]
  },
  {
   "cell_type": "code",
   "execution_count": 36,
   "metadata": {
    "collapsed": false
   },
   "outputs": [
    {
     "name": "stderr",
     "output_type": "stream",
     "text": [
      "/Users/varshapullabhotla/anaconda/lib/python2.7/site-packages/ipykernel/__main__.py:2: SettingWithCopyWarning: \n",
      "A value is trying to be set on a copy of a slice from a DataFrame\n",
      "\n",
      "See the caveats in the documentation: http://pandas.pydata.org/pandas-docs/stable/indexing.html#indexing-view-versus-copy\n",
      "  from ipykernel import kernelapp as app\n"
     ]
    }
   ],
   "source": [
    "# 1. Dropping EmailHash\n",
    "users_final_set.drop('EmailHash',inplace=True,axis=1)"
   ]
  },
  {
   "cell_type": "code",
   "execution_count": 37,
   "metadata": {
    "collapsed": false
   },
   "outputs": [
    {
     "name": "stdout",
     "output_type": "stream",
     "text": [
      "<class 'pandas.core.frame.DataFrame'>\n",
      "Int64Index: 591606 entries, 0 to 1976464\n",
      "Data columns (total 29 columns):\n",
      "Question_id              591606 non-null int64\n",
      "Question_OwnerId         587092 non-null float64\n",
      "Question_CreationDate    591606 non-null object\n",
      "ParentId                 591606 non-null int64\n",
      "Question_score           591606 non-null int64\n",
      "Question_body            591606 non-null object\n",
      "Answer_id                591606 non-null int64\n",
      "Answer_OwnerId           591606 non-null float64\n",
      "Answer_CreationDate      591606 non-null object\n",
      "ClosedDate               29101 non-null object\n",
      "Answer_score             591606 non-null int64\n",
      "Title                    591606 non-null object\n",
      "Answer_body              591606 non-null object\n",
      "tags                     591606 non-null object\n",
      "DownVotes                591606 non-null float64\n",
      "DisplayName              591606 non-null object\n",
      "Age                      276816 non-null float64\n",
      "WebsiteUrl               539242 non-null object\n",
      "Reputation               591606 non-null float64\n",
      "Location                 381042 non-null object\n",
      "Views                    591606 non-null float64\n",
      "AboutMe                  591606 non-null object\n",
      "LastAccessDate           591606 non-null object\n",
      "ProfileImageUrl          177490 non-null object\n",
      "UpVotes                  591606 non-null float64\n",
      "CreationDate             591606 non-null object\n",
      "User_Id                  591606 non-null float64\n",
      "AccountId                591606 non-null float64\n",
      "Answer_count             591606 non-null int64\n",
      "dtypes: float64(9), int64(6), object(14)\n",
      "memory usage: 135.4+ MB\n"
     ]
    }
   ],
   "source": [
    "users_final_set.info()"
   ]
  },
  {
   "cell_type": "code",
   "execution_count": 39,
   "metadata": {
    "collapsed": false
   },
   "outputs": [
    {
     "name": "stderr",
     "output_type": "stream",
     "text": [
      "/Users/varshapullabhotla/anaconda/lib/python2.7/site-packages/ipykernel/__main__.py:1: SettingWithCopyWarning: \n",
      "A value is trying to be set on a copy of a slice from a DataFrame.\n",
      "Try using .loc[row_indexer,col_indexer] = value instead\n",
      "\n",
      "See the caveats in the documentation: http://pandas.pydata.org/pandas-docs/stable/indexing.html#indexing-view-versus-copy\n",
      "  if __name__ == '__main__':\n",
      "/Users/varshapullabhotla/anaconda/lib/python2.7/site-packages/ipykernel/__main__.py:2: SettingWithCopyWarning: \n",
      "A value is trying to be set on a copy of a slice from a DataFrame.\n",
      "Try using .loc[row_indexer,col_indexer] = value instead\n",
      "\n",
      "See the caveats in the documentation: http://pandas.pydata.org/pandas-docs/stable/indexing.html#indexing-view-versus-copy\n",
      "  from ipykernel import kernelapp as app\n",
      "/Users/varshapullabhotla/anaconda/lib/python2.7/site-packages/ipykernel/__main__.py:3: SettingWithCopyWarning: \n",
      "A value is trying to be set on a copy of a slice from a DataFrame.\n",
      "Try using .loc[row_indexer,col_indexer] = value instead\n",
      "\n",
      "See the caveats in the documentation: http://pandas.pydata.org/pandas-docs/stable/indexing.html#indexing-view-versus-copy\n",
      "  app.launch_new_instance()\n",
      "/Users/varshapullabhotla/anaconda/lib/python2.7/site-packages/ipykernel/__main__.py:5: SettingWithCopyWarning: \n",
      "A value is trying to be set on a copy of a slice from a DataFrame.\n",
      "Try using .loc[row_indexer,col_indexer] = value instead\n",
      "\n",
      "See the caveats in the documentation: http://pandas.pydata.org/pandas-docs/stable/indexing.html#indexing-view-versus-copy\n",
      "/Users/varshapullabhotla/anaconda/lib/python2.7/site-packages/ipykernel/__main__.py:8: SettingWithCopyWarning: \n",
      "A value is trying to be set on a copy of a slice from a DataFrame.\n",
      "Try using .loc[row_indexer,col_indexer] = value instead\n",
      "\n",
      "See the caveats in the documentation: http://pandas.pydata.org/pandas-docs/stable/indexing.html#indexing-view-versus-copy\n",
      "/Users/varshapullabhotla/anaconda/lib/python2.7/site-packages/ipykernel/__main__.py:9: SettingWithCopyWarning: \n",
      "A value is trying to be set on a copy of a slice from a DataFrame.\n",
      "Try using .loc[row_indexer,col_indexer] = value instead\n",
      "\n",
      "See the caveats in the documentation: http://pandas.pydata.org/pandas-docs/stable/indexing.html#indexing-view-versus-copy\n",
      "/Users/varshapullabhotla/anaconda/lib/python2.7/site-packages/ipykernel/__main__.py:10: SettingWithCopyWarning: \n",
      "A value is trying to be set on a copy of a slice from a DataFrame.\n",
      "Try using .loc[row_indexer,col_indexer] = value instead\n",
      "\n",
      "See the caveats in the documentation: http://pandas.pydata.org/pandas-docs/stable/indexing.html#indexing-view-versus-copy\n",
      "/Users/varshapullabhotla/anaconda/lib/python2.7/site-packages/ipykernel/__main__.py:11: SettingWithCopyWarning: \n",
      "A value is trying to be set on a copy of a slice from a DataFrame.\n",
      "Try using .loc[row_indexer,col_indexer] = value instead\n",
      "\n",
      "See the caveats in the documentation: http://pandas.pydata.org/pandas-docs/stable/indexing.html#indexing-view-versus-copy\n"
     ]
    }
   ],
   "source": [
    "users_final_set['Answer_CreationDate'] = users_final_set['Answer_CreationDate'].apply(lambda x: x.replace(\"T\",\" \"))\n",
    "users_final_set['Question_CreationDate'] = users_final_set['Question_CreationDate'].apply(lambda x: x.replace(\"T\",\" \"))\n",
    "users_final_set['CreationDate'] = users_final_set['CreationDate'].apply(lambda x: x.replace(\"T\",\" \"))\n",
    "#users_final_set['ClosedDate'] = users_final_set['ClosedDate'].apply(lambda x: x.replace(\"T\",\" \"))\n",
    "users_final_set['LastAccessDate'] = users_final_set['LastAccessDate'].apply(lambda x: x.replace(\"T\",\" \"))\n",
    "\n",
    "\n",
    "users_final_set['Answer_CreationDate'] = users_final_set['Answer_CreationDate'].apply(lambda x: x.replace(\"Z\",\" \"))\n",
    "users_final_set['Question_CreationDate'] = users_final_set['Question_CreationDate'].apply(lambda x: x.replace(\"Z\",\" \"))\n",
    "users_final_set['CreationDate'] = users_final_set['CreationDate'].apply(lambda x: x.replace(\"Z\",\" \"))\n",
    "users_final_set['LastAccessDate'] = users_final_set['LastAccessDate'].apply(lambda x: x.replace(\"Z\",\" \"))\n"
   ]
  },
  {
   "cell_type": "code",
   "execution_count": 42,
   "metadata": {
    "collapsed": false
   },
   "outputs": [
    {
     "name": "stderr",
     "output_type": "stream",
     "text": [
      "/Users/varshapullabhotla/anaconda/lib/python2.7/site-packages/ipykernel/__main__.py:2: SettingWithCopyWarning: \n",
      "A value is trying to be set on a copy of a slice from a DataFrame.\n",
      "Try using .loc[row_indexer,col_indexer] = value instead\n",
      "\n",
      "See the caveats in the documentation: http://pandas.pydata.org/pandas-docs/stable/indexing.html#indexing-view-versus-copy\n",
      "  from ipykernel import kernelapp as app\n",
      "/Users/varshapullabhotla/anaconda/lib/python2.7/site-packages/ipykernel/__main__.py:3: SettingWithCopyWarning: \n",
      "A value is trying to be set on a copy of a slice from a DataFrame.\n",
      "Try using .loc[row_indexer,col_indexer] = value instead\n",
      "\n",
      "See the caveats in the documentation: http://pandas.pydata.org/pandas-docs/stable/indexing.html#indexing-view-versus-copy\n",
      "  app.launch_new_instance()\n",
      "/Users/varshapullabhotla/anaconda/lib/python2.7/site-packages/ipykernel/__main__.py:4: SettingWithCopyWarning: \n",
      "A value is trying to be set on a copy of a slice from a DataFrame.\n",
      "Try using .loc[row_indexer,col_indexer] = value instead\n",
      "\n",
      "See the caveats in the documentation: http://pandas.pydata.org/pandas-docs/stable/indexing.html#indexing-view-versus-copy\n",
      "/Users/varshapullabhotla/anaconda/lib/python2.7/site-packages/ipykernel/__main__.py:5: SettingWithCopyWarning: \n",
      "A value is trying to be set on a copy of a slice from a DataFrame.\n",
      "Try using .loc[row_indexer,col_indexer] = value instead\n",
      "\n",
      "See the caveats in the documentation: http://pandas.pydata.org/pandas-docs/stable/indexing.html#indexing-view-versus-copy\n"
     ]
    }
   ],
   "source": [
    "#Converting temporal variables into datetime type\n",
    "users_final_set['CreationDate'] = pd.to_datetime(users_final_set['CreationDate'],infer_datetime_format=True)\n",
    "users_final_set['Answer_CreationDate'] = pd.to_datetime(users_final_set['Answer_CreationDate'],infer_datetime_format=True)\n",
    "users_final_set['Question_CreationDate'] = pd.to_datetime(users_final_set['Question_CreationDate'],infer_datetime_format=True)\n",
    "users_final_set['LastAccessDate'] = pd.to_datetime(users_final_set['LastAccessDate'],infer_datetime_format=True)"
   ]
  },
  {
   "cell_type": "code",
   "execution_count": 45,
   "metadata": {
    "collapsed": false
   },
   "outputs": [
    {
     "name": "stdout",
     "output_type": "stream",
     "text": [
      "<class 'pandas.core.frame.DataFrame'>\n",
      "Int64Index: 591606 entries, 0 to 1976464\n",
      "Data columns (total 29 columns):\n",
      "Question_id              591606 non-null int64\n",
      "Question_OwnerId         587092 non-null float64\n",
      "Question_CreationDate    591606 non-null datetime64[ns]\n",
      "ParentId                 591606 non-null int64\n",
      "Question_score           591606 non-null int64\n",
      "Question_body            591606 non-null object\n",
      "Answer_id                591606 non-null int64\n",
      "Answer_OwnerId           591606 non-null float64\n",
      "Answer_CreationDate      591606 non-null datetime64[ns]\n",
      "ClosedDate               29101 non-null object\n",
      "Answer_score             591606 non-null int64\n",
      "Title                    591606 non-null object\n",
      "Answer_body              591606 non-null object\n",
      "tags                     591606 non-null object\n",
      "DownVotes                591606 non-null float64\n",
      "DisplayName              591606 non-null object\n",
      "Age                      276816 non-null float64\n",
      "WebsiteUrl               539242 non-null object\n",
      "Reputation               591606 non-null float64\n",
      "Location                 381042 non-null object\n",
      "Views                    591606 non-null float64\n",
      "AboutMe                  591606 non-null object\n",
      "LastAccessDate           591606 non-null datetime64[ns]\n",
      "ProfileImageUrl          177490 non-null object\n",
      "UpVotes                  591606 non-null float64\n",
      "CreationDate             591606 non-null datetime64[ns]\n",
      "User_Id                  591606 non-null float64\n",
      "AccountId                591606 non-null float64\n",
      "Answer_count             591606 non-null int64\n",
      "dtypes: datetime64[ns](4), float64(9), int64(6), object(10)\n",
      "memory usage: 135.4+ MB\n"
     ]
    }
   ],
   "source": [
    "users_final_set.info()"
   ]
  },
  {
   "cell_type": "code",
   "execution_count": 57,
   "metadata": {
    "collapsed": false
   },
   "outputs": [
    {
     "data": {
      "text/plain": [
       "591606"
      ]
     },
     "execution_count": 57,
     "metadata": {},
     "output_type": "execute_result"
    }
   ],
   "source": [
    "#len(aboutme.apply(lambda x: 1 if len(x) == 1 else 0))"
   ]
  },
  {
   "cell_type": "code",
   "execution_count": 61,
   "metadata": {
    "collapsed": false
   },
   "outputs": [
    {
     "data": {
      "text/plain": [
       "array([ u'Front-End Engineer at Exact Target\\nCo-Author of HTML, XHTML and CSS All-in-one Desk Reference for Dummies\\nGraduated from IU with a Bachelors of Media Arts and Science and a Certificate in Applied Computer Science.\\nTech Editor for Building Facebook Applications for Dummies and Building Websites All-in-one for Dummies 2nd Edition.\\nCreator and maintainer of the Status-bar Calculator Firefox and Chrome extensions\\nThree years professional experience in Java E-Commerce Development and four years professional experience with PHP\\nTeach Server Side Programming with PHP and Mobile Applications Development at IUPUI\\n',\n",
       "       u'a long time ago i found an xss vuln here and took down the entire site\\nuserid 26, respect\\n',\n",
       "       u\"Full-Stack Developer at Stack Overflow, working to make our little corner of the Internet better for all of us.\\nIf it consumes electricity, chances are good that I worked with it or at least know about it. Graduated as SysAdmin, turned Programmer. C# (ASP.net MVC and Web API), JavaScript (node.js and browser based), in the past I also worked with Basic, Java, and PHP. Did some Ruby and Go code as a hobby. 6502 Assembly is art.\\nI'm also on Twitter and I have a blog.\\n\",\n",
       "       ...,\n",
       "       u'http://www.masisclass.com/\\n\"Our civilization runs on software.\" - Bjarne Stroustrup\\n',\n",
       "       u\"I'm a Developer.\\n\",\n",
       "       u'UI Developer with 9 years of experience and knowledge about, CSS, HTML jQuery and learning AngularJS\\n'], dtype=object)"
      ]
     },
     "execution_count": 61,
     "metadata": {},
     "output_type": "execute_result"
    }
   ],
   "source": [
    "users_final_set['About_me'].unique()"
   ]
  },
  {
   "cell_type": "code",
   "execution_count": 69,
   "metadata": {
    "collapsed": true
   },
   "outputs": [],
   "source": [
    "#users_final_set = pd.read_csv(\"/Users/varshapullabhotla/Documents/Capstone_project/EDA/users_profile_final.csv\")"
   ]
  },
  {
   "cell_type": "code",
   "execution_count": 31,
   "metadata": {
    "collapsed": false
   },
   "outputs": [
    {
     "name": "stdout",
     "output_type": "stream",
     "text": [
      "<class 'pandas.core.frame.DataFrame'>\n",
      "RangeIndex: 339640 entries, 0 to 339639\n",
      "Data columns (total 32 columns):\n",
      "Unnamed: 0               339640 non-null int64\n",
      "Unnamed: 0.1             339640 non-null int64\n",
      "Question_id              339640 non-null int64\n",
      "Question_OwnerId         336875 non-null float64\n",
      "Question_CreationDate    339640 non-null object\n",
      "ParentId                 339640 non-null int64\n",
      "Question_score           339640 non-null int64\n",
      "Question_body            339640 non-null object\n",
      "Answer_id                339640 non-null int64\n",
      "Answer_OwnerId           339640 non-null float64\n",
      "Answer_CreationDate      339640 non-null object\n",
      "ClosedDate               17578 non-null object\n",
      "Answer_score             339640 non-null int64\n",
      "Title                    339640 non-null object\n",
      "Answer_body              339640 non-null object\n",
      "tags                     339640 non-null object\n",
      "DownVotes                339640 non-null float64\n",
      "DisplayName              339615 non-null object\n",
      "Age                      217781 non-null float64\n",
      "WebsiteUrl               203309 non-null object\n",
      "EmailHash                0 non-null float64\n",
      "Reputation               339640 non-null float64\n",
      "Location                 271824 non-null object\n",
      "Views                    339640 non-null float64\n",
      "AboutMe                  339640 non-null object\n",
      "LastAccessDate           339640 non-null object\n",
      "ProfileImageUrl          113527 non-null object\n",
      "UpVotes                  339640 non-null float64\n",
      "CreationDate             339640 non-null object\n",
      "User_Id                  339640 non-null float64\n",
      "AccountId                339640 non-null float64\n",
      "Answer_count             339640 non-null int64\n",
      "dtypes: float64(10), int64(8), object(14)\n",
      "memory usage: 82.9+ MB\n"
     ]
    }
   ],
   "source": [
    "users_final_set.info()"
   ]
  },
  {
   "cell_type": "code",
   "execution_count": 62,
   "metadata": {
    "collapsed": false
   },
   "outputs": [],
   "source": [
    "from nltk.corpus import stopwords\n",
    "def html_to_words( raw_html ):\n",
    "    # Function to convert a raw html to a string of words\n",
    "    # The input is a single string (a raw html), and \n",
    "    # the output is a single string (preprocessed text)\n",
    "    #\n",
    "    # 1. Remove HTML\n",
    "    review_text = BeautifulSoup(raw_html).get_text() \n",
    "    #\n",
    "    # 2. Remove non-letters        \n",
    "    #letters_only = re.sub(\"[^a-zA-Z]\", \" \", review_text) \n",
    "    review_text = review_text.replace(\"\\n\",\"\")\n",
    "    #\n",
    "    # 3. Convert to lower case, split into individual words\n",
    "    words = review_text.lower().split()                             \n",
    "    #\n",
    "    \n",
    "    # 4. Join the words back into one string separated by space, \n",
    "    # and return the result.\n",
    "    return( \" \".join(words ))   \n"
   ]
  },
  {
   "cell_type": "code",
   "execution_count": 70,
   "metadata": {
    "collapsed": false
   },
   "outputs": [],
   "source": [
    "#Transform html raw text in columns Question body , Answer_body and AboutMe\n",
    "\n",
    "users_final_set['Question_body'] = users_final_set.Question_body.apply(html_to_words)\n",
    "users_final_set['Answer_body'] = users_final_set.Answer_body.apply(html_to_words)\n",
    "users_final_set['AboutMe'] = users_final_set.AboutMe.apply(html_to_words)"
   ]
  },
  {
   "cell_type": "code",
   "execution_count": 64,
   "metadata": {
    "collapsed": false
   },
   "outputs": [
    {
     "data": {
      "text/plain": [
       "0         version control with subversiona very good res...\n",
       "1         with a six word character password, he may hav...\n",
       "2         try and gather as much information as you can....\n",
       "3         is the site just plain static html? i.e. he ha...\n",
       "4         you mention your dad was using a website publi...\n",
       "5         i know this is a little late in the game, but ...\n",
       "6         you defined the primary key twice. try:create ...\n",
       "7         i ran the code here, and the error message sho...\n",
       "8         can you provide the definition of the vendor t...\n",
       "9         we had been hacked from same guys apparently! ...\n",
       "10        unplug the webserver without shutting it down ...\n",
       "11        this happened to a client of mine recently tha...\n",
       "12        you can also try version control for the stand...\n",
       "13        i have written a server side code removal tool...\n",
       "14        my easy click-by-click instructions (specific ...\n",
       "15        you can try (not tested myself) this other pos...\n",
       "16        the problem is witheval $(printf \"$custom_show...\n",
       "17        you can format your code using a syntax highli...\n",
       "18        instead of:iconurl = \"/favicons/example.png\";i...\n",
       "19        since you are trying to add an image from the ...\n",
       "20        i think there is no such thing in default ant....\n",
       "21        in case people are having this problem on chro...\n",
       "22        i wound up using this. it is a kind of a hack,...\n",
       "23        the sqlite api has a function called something...\n",
       "24        define \"last epoch\". does this come close?sele...\n",
       "25        last epoch is when 1970 gmt?select datediff(s,...\n",
       "26        if you store them as varchar, store them as yy...\n",
       "27        sql server has only 2 failsafe date formatsiso...\n",
       "28        i wound up using format 120 in ms sql: convert...\n",
       "29        i use this method for some internal corporate ...\n",
       "                                ...                        \n",
       "339610    on a single-core x86 machine, an \"add\" instruc...\n",
       "339611    even if your compiler always emitted this as a...\n",
       "339612    this is absolutely what c++ defines as a data ...\n",
       "339613    yes, but...atomic is not what you meant to say...\n",
       "339614    that a single compiler's output, on a specific...\n",
       "339615    no.https://www.youtube.com/watch?v=31g0ye61plq...\n",
       "339616    back in the day when x86 computers had one cpu...\n",
       "339617    timeout error is typical of packets dropped, s...\n",
       "339618    you need to change some setting in your php.in...\n",
       "339619    1st quote (from ibm community):john.hh@gmail.c...\n",
       "339620    it's a bad idea to use your own smtp.depending...\n",
       "339621    the problem - rather the two unrelated problem...\n",
       "339622    ask to your hosting provider if smtp is enable...\n",
       "339623    what's the phpmailer version?you might forget ...\n",
       "339624    i got your point. same issue happen with me , ...\n",
       "339625    connection time-out means the mail server cann...\n",
       "339626    so you have a godaddy server and you want to s...\n",
       "339627    your error says:smtp error: failed to connect ...\n",
       "339628    i think within a few steps we can get this wor...\n",
       "339629    this is after fixing your code:@-webkit-keyfra...\n",
       "339630    just set opacity: 0 property in your animation...\n",
       "339631    you need to add the animation call to your li ...\n",
       "339632    body, html { width: 100%; height: 100%; } body...\n",
       "339633    this worked for me.. body, html { width: 100%;...\n",
       "339634    considering the hassle of aligning and making ...\n",
       "339635    your best option is to use an svg.you can eith...\n",
       "339636    i managed to create the design you were lookin...\n",
       "339637    here's a half-formulated answer. not sure if y...\n",
       "339638    try adding this to your css, and style select ...\n",
       "339639    try this:select { -webkit-appearance: none; -w...\n",
       "Name: Question_body, dtype: object"
      ]
     },
     "execution_count": 64,
     "metadata": {},
     "output_type": "execute_result"
    }
   ],
   "source": [
    "sample"
   ]
  },
  {
   "cell_type": "code",
   "execution_count": 46,
   "metadata": {
    "collapsed": false
   },
   "outputs": [
    {
     "name": "stdout",
     "output_type": "stream",
     "text": [
      "<class 'pandas.core.frame.DataFrame'>\n",
      "RangeIndex: 339640 entries, 0 to 339639\n",
      "Data columns (total 32 columns):\n",
      "Unnamed: 0               339640 non-null int64\n",
      "Unnamed: 0.1             339640 non-null int64\n",
      "Question_id              339640 non-null int64\n",
      "Question_OwnerId         336875 non-null float64\n",
      "Question_CreationDate    339640 non-null object\n",
      "ParentId                 339640 non-null int64\n",
      "Question_score           339640 non-null int64\n",
      "Question_body            339640 non-null object\n",
      "Answer_id                339640 non-null int64\n",
      "Answer_OwnerId           339640 non-null float64\n",
      "Answer_CreationDate      339640 non-null object\n",
      "ClosedDate               17578 non-null object\n",
      "Answer_score             339640 non-null int64\n",
      "Title                    339640 non-null object\n",
      "Answer_body              339640 non-null object\n",
      "tags                     339640 non-null object\n",
      "DownVotes                339640 non-null float64\n",
      "DisplayName              339615 non-null object\n",
      "Age                      217781 non-null float64\n",
      "WebsiteUrl               203309 non-null object\n",
      "EmailHash                0 non-null float64\n",
      "Reputation               339640 non-null float64\n",
      "Location                 271824 non-null object\n",
      "Views                    339640 non-null float64\n",
      "AboutMe                  339640 non-null object\n",
      "LastAccessDate           339640 non-null object\n",
      "ProfileImageUrl          113527 non-null object\n",
      "UpVotes                  339640 non-null float64\n",
      "CreationDate             339640 non-null object\n",
      "User_Id                  339640 non-null float64\n",
      "AccountId                339640 non-null float64\n",
      "Answer_count             339640 non-null int64\n",
      "dtypes: float64(10), int64(8), object(14)\n",
      "memory usage: 82.9+ MB\n"
     ]
    }
   ],
   "source": [
    "users_final.info()"
   ]
  },
  {
   "cell_type": "code",
   "execution_count": 51,
   "metadata": {
    "collapsed": true
   },
   "outputs": [],
   "source": [
    "jobs = pd.read_csv(\"jobs_final.csv\")"
   ]
  },
  {
   "cell_type": "code",
   "execution_count": 71,
   "metadata": {
    "collapsed": true
   },
   "outputs": [],
   "source": [
    "jobs.summary = jobs.summary.apply(html_to_words)"
   ]
  },
  {
   "cell_type": "code",
   "execution_count": 72,
   "metadata": {
    "collapsed": false
   },
   "outputs": [
    {
     "data": {
      "text/plain": [
       "0        /*remove application code box for returning ap...\n",
       "1        var _csrf_token_name = 'sgjy'; var _csrf_token...\n",
       "2        irhythm job - details | irhythm technologies $...\n",
       "3        square product analyst | smartrecruiters.butto...\n",
       "4        (function(h){h.classname=h.classname.replace(/...\n",
       "5        job description | armanino careers $(document)...\n",
       "6        job application for data scientist at nunawind...\n",
       "7        krg technology inc back end java developer | s...\n",
       "8        senior data analyst at capital one - usdocumen...\n",
       "9        window.nreum||(nreum={});nreum.info={\"beacon\":...\n",
       "10       job details | csu careers table th { color: bl...\n",
       "11       careers | earnest { \"@context\": \"http://schema...\n",
       "12       job application for senior/principal data scie...\n",
       "13       window.nreum||(nreum={});nreum.info={\"beacon\":...\n",
       "14       jobs - everstring var url = window.location.hr...\n",
       "15       robotics: machine learning engineer | activ te...\n",
       "16       data scientist × supercell!function(f,b,e,v,n,...\n",
       "17       job application for catalog operations analyst...\n",
       "18       apply to mosaicmosaic.cls-1{fill:none;}.cls-2{...\n",
       "19       job application for sr. data analyst at nunawi...\n",
       "20       affirm - software engineer - full-stack@font-f...\n",
       "21       clara - software engineer, front end@font-face...\n",
       "22       //<![cdata[ j2w.init({ \"cookiepolicy\" : 1, \"us...\n",
       "23       function icims_stripiframeparameter(url) {url ...\n",
       "24       job openings | sunrunwindow.datalayer = window...\n",
       "25       software engineer job - indeed prime - san fra...\n",
       "26       stroz friedberg careers - analyst, ediscovery ...\n",
       "27       datanyze - software engineer@font-face {font-f...\n",
       "28       developer evangelist - san francisco, ca | zen...\n",
       "29       var w=window; if(w.performance||w.mozperforman...\n",
       "                               ...                        \n",
       "10532    var useautoscrolling = false;if (window.addeve...\n",
       "10533    data warehouse (dwh) & bi architect job in red...\n",
       "10534    var useautoscrolling = false;if (window.addeve...\n",
       "10535    apply for avanade entry level infrastructure e...\n",
       "10536    f5 networks job postings a, a:link, a:visited,...\n",
       "10537    var useautoscrolling = false;if (window.addeve...\n",
       "10538    oracle recruitingoracleoracle homecareersjob s...\n",
       "10539    try { typekit.load(); } catch (e) { } var swit...\n",
       "10540    body { background: none; } .page { margin-top:...\n",
       "10541    apply for comcast client integration engineer ...\n",
       "10542    sbg careersfunction clear_search() {document.s...\n",
       "10543    cmsetclientid('51290000|tmobile_ext_career', t...\n",
       "10544    var useautoscrolling = false;if (window.addeve...\n",
       "10545    job searchgo to the main content section.|my a...\n",
       "10546    senior software engineer, big data hadoop | zu...\n",
       "10547    (window.nreum||(nreum={})).loader_config={xpid...\n",
       "10548    mainframe senior systems engineer – job detail...\n",
       "10549    var useautoscrolling = false;if (window.addeve...\n",
       "10550    function icims_stripiframeparameter(url) {url ...\n",
       "10551    function icims_stripiframeparameter(url) {url ...\n",
       "10552    var useautoscrolling = false;if (window.addeve...\n",
       "10553    astreya careersfunction clear_search() {docume...\n",
       "10554    power career jobs - military transitioncommiss...\n",
       "10555    current job openings at zillowvar ui_init_at =...\n",
       "10556    var useautoscrolling = false;if (window.addeve...\n",
       "10557    nordstrom careers - search opportunitiesgo to ...\n",
       "10558    job detail var wmts_license_status = \"valid\"; ...\n",
       "10559    var useautoscrolling = false;if (window.addeve...\n",
       "10560    var useautoscrolling = false;if (window.addeve...\n",
       "10561    .gm-style .gm-style-cc span,.gm-style .gm-styl...\n",
       "Name: summary, dtype: object"
      ]
     },
     "execution_count": 72,
     "metadata": {},
     "output_type": "execute_result"
    }
   ],
   "source": [
    "jobs.summary"
   ]
  },
  {
   "cell_type": "code",
   "execution_count": null,
   "metadata": {
    "collapsed": true
   },
   "outputs": [],
   "source": []
  }
 ],
 "metadata": {
  "anaconda-cloud": {},
  "kernelspec": {
   "display_name": "Python [Root]",
   "language": "python",
   "name": "Python [Root]"
  },
  "language_info": {
   "codemirror_mode": {
    "name": "ipython",
    "version": 2
   },
   "file_extension": ".py",
   "mimetype": "text/x-python",
   "name": "python",
   "nbconvert_exporter": "python",
   "pygments_lexer": "ipython2",
   "version": "2.7.12"
  }
 },
 "nbformat": 4,
 "nbformat_minor": 0
}
